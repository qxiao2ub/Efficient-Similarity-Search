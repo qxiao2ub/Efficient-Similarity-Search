{
  "cells": [
    {
      "cell_type": "markdown",
      "metadata": {
        "id": "1HT0VKpbgTBm"
      },
      "source": [
        "# Efficient Similarity Search    \n",
        "\n",
        "## CSCI E-108      \n",
        "\n",
        "### Steve Elston"
      ]
    },
    {
      "cell_type": "markdown",
      "metadata": {
        "id": "TY1JDvqUgTBo"
      },
      "source": [
        "In these exercises you will gain some experience with methods for efficient similarity search. A naive similarity search requires a brute-force computation of all pairwise distances, in the chosen metrics. The brute-force approach is not scalable with computational complexity for $n$ observations is $O(n^2)$. For massive dataset we need much more efficient methods. Here, we will explore two possibilities:        \n",
        "1. [**KD trees**](https://en.wikipedia.org/wiki/K-d_tree) are constructed from recurrsive binary splits. For a dataset with $n$ observatrions and dimensionality, $d$, the computational complexity is $O\\big(d\\ n \\log(n) \\big)$. While not ideal linear scaling, $O(n)$,the KD tree is a significant improvement over brute-force methods. Generally, KD-trees are considered to be efficient for large datasets with $d \\le 20$. For higher dimensional data, R-trees and ball trees can be extended to higher dimensional data. We will apply ball trees for clustering and dimensionality reduction with the spectral clustering and UMAP algorithms.     \n",
        "2. [**Mini-hashing**](https://en.wikipedia.org/wiki/MinHash) and [**locally sensitive hashing (LSH)**](https://en.wikipedia.org/wiki/Locality-sensitive_hashing#:~:text=In%20computer%20science%2C%20locality%2Dsensitive,universe%20of%20possible%20input%20items.)) can be applied to massive very high dimensional dataset. The mini-hash algorithm creates sketches of the observations that approximate the Jacard similarity between two varaibles. Multiple bands of sketches are combined to create locally sensive hashes with lower false positive and false negative rates.     \n",
        "\n",
        "Before proceeding to the exercises, execute the code in the cell below to import the required packages.  "
      ]
    },
    {
      "cell_type": "code",
      "execution_count": 1,
      "metadata": {
        "id": "2pxsz3bQgTBo"
      },
      "outputs": [],
      "source": [
        "import os\n",
        "import time\n",
        "import itertools\n",
        "import collections\n",
        "import numpy as np\n",
        "import pandas as pd\n",
        "import matplotlib.pyplot as plt\n",
        "from sklearn import datasets\n",
        "from sklearn.neighbors import KDTree\n",
        "from sklearn.model_selection import train_test_split\n",
        "import math"
      ]
    },
    {
      "cell_type": "markdown",
      "metadata": {
        "id": "RDWrUQzrgTBp"
      },
      "source": [
        "## Similarity Search with KD Trees     \n",
        "\n",
        "We will now explore a basic example of using a KD tree to find nearest neighbors. We will use a small (toy) dataset of characteristics and metabolic measurements taken from 442 diabetes patients. The KD tree algorithm will be used to find the nearest neightbors of the patients, based on the Euclidean distrance between the observation vectors.    \n",
        "\n",
        "### Load the dataset\n",
        "\n",
        "The diabetes dataset is in the [Scikit Learn Datasets package](https://scikit-learn.org/stable/api/sklearn.datasets.html).This dataset has already been clearned, missing values dealt with, and standardized (zero mean, unite variance). Therefore, we will skip the usual exploration and preparation steps.     \n",
        "\n",
        "Execute the code in the cell below to load the dataset and split it into two data frames, one for training and one for test.  "
      ]
    },
    {
      "cell_type": "code",
      "execution_count": 2,
      "metadata": {
        "id": "tUmsPS2BgTBp",
        "colab": {
          "base_uri": "https://localhost:8080/"
        },
        "outputId": "c4c61aa2-b927-48f5-fd64-6e561e84e29b"
      },
      "outputs": [
        {
          "output_type": "stream",
          "name": "stdout",
          "text": [
            "Dimensions of training data frame = (422, 10)\n",
            "    age_years       sex       BMI  Average_BP  serum_cholesterol       LDL  \\\n",
            "0   -0.009147  0.050680  0.170555    0.014987           0.030078  0.033759   \n",
            "1   -0.078165  0.050680  0.077863    0.052858           0.078236  0.064447   \n",
            "2    0.001751  0.050680 -0.005128   -0.012556          -0.015328 -0.013840   \n",
            "3   -0.049105 -0.044642  0.025051    0.008101           0.020446  0.017788   \n",
            "4    0.056239  0.050680 -0.030996    0.008101           0.019070  0.021233   \n",
            "5    0.001751  0.050680  0.059541   -0.002228           0.061725  0.063195   \n",
            "6   -0.034575  0.050680 -0.055785   -0.015999          -0.009825 -0.007890   \n",
            "7    0.016281 -0.044642  0.020739    0.021872          -0.013953 -0.013214   \n",
            "8    0.067136  0.050680 -0.025607   -0.040099          -0.063487 -0.059873   \n",
            "9    0.016281  0.050680 -0.045007    0.063187           0.010815 -0.000374   \n",
            "10   0.067136 -0.044642  0.056307    0.073515          -0.013953 -0.039205   \n",
            "11  -0.009147  0.050680 -0.039618   -0.040099          -0.008449  0.016222   \n",
            "12  -0.052738  0.050680 -0.040696   -0.067642          -0.031840 -0.037013   \n",
            "13  -0.005515  0.050680 -0.011595    0.011544          -0.022208 -0.015406   \n",
            "14  -0.023677  0.050680 -0.025607    0.042529          -0.053855 -0.047660   \n",
            "15   0.056239  0.050680  0.009961    0.049415          -0.004321 -0.012274   \n",
            "16   0.081666 -0.044642  0.033673    0.008101           0.052093  0.056619   \n",
            "17   0.059871  0.050680  0.041218    0.011544           0.041086  0.070710   \n",
            "18   0.074401 -0.044642  0.031517    0.101058           0.046589  0.036890   \n",
            "19   0.041708 -0.044642 -0.008362   -0.026328           0.024574  0.016222   \n",
            "\n",
            "         HDL  total_chol_over_HDL  log_serum_triglycerides  Glucose_level  \n",
            "0  -0.021311             0.034309                 0.033654       0.032059  \n",
            "1   0.026550            -0.002592                 0.040673      -0.009362  \n",
            "2   0.008142            -0.039493                -0.006081      -0.067351  \n",
            "3   0.052322            -0.039493                -0.041176       0.007207  \n",
            "4   0.033914            -0.039493                -0.029526      -0.059067  \n",
            "5  -0.058127             0.108111                 0.068986       0.127328  \n",
            "6   0.037595            -0.039493                -0.052963       0.027917  \n",
            "7  -0.006584            -0.002592                 0.013317       0.040343  \n",
            "8  -0.002903            -0.039493                -0.019198       0.011349  \n",
            "9   0.063367            -0.039493                -0.030748       0.036201  \n",
            "10 -0.032356            -0.002592                 0.075741       0.036201  \n",
            "11 -0.065491             0.071210                 0.017765      -0.067351  \n",
            "12  0.037595            -0.039493                -0.034522       0.069338  \n",
            "13 -0.021311            -0.002592                 0.011011       0.069338  \n",
            "14 -0.021311            -0.039493                 0.001148       0.019633  \n",
            "15 -0.043401             0.034309                 0.060791       0.032059  \n",
            "16 -0.017629             0.034309                 0.034866       0.069338  \n",
            "17 -0.036038             0.034309                -0.010903      -0.030072  \n",
            "18  0.015505            -0.002592                 0.033654       0.044485  \n",
            "19  0.070730            -0.039493                -0.048359      -0.030072  \n"
          ]
        }
      ],
      "source": [
        "train_size = 20\n",
        "column_names = ['age_years',\n",
        "                'sex',\n",
        "                'BMI',\n",
        "                'Average_BP',\n",
        "                'serum_cholesterol',\n",
        "                'LDL',\n",
        "                'HDL',\n",
        "                'total_chol_over_HDL',\n",
        "                'log_serum_triglycerides',\n",
        "                'Glucose_level']\n",
        "\n",
        "diabetes_test, diabetes_train = train_test_split(datasets.load_diabetes()['data'], train_size=train_size)\n",
        "\n",
        "diabetes_train = pd.DataFrame(diabetes_train, columns=column_names)\n",
        "diabetes_test = pd.DataFrame(diabetes_test, columns=column_names)\n",
        "print('Dimensions of training data frame = ' + str(diabetes_train.shape))\n",
        "print(diabetes_test)"
      ]
    },
    {
      "cell_type": "markdown",
      "metadata": {
        "id": "N6C24B9UgTBp"
      },
      "source": [
        "Notice that each of the observations is a numeric vector with 10 variables. These variables have all be standardized.    "
      ]
    },
    {
      "cell_type": "markdown",
      "metadata": {
        "id": "e-sBzKXcgTBq"
      },
      "source": [
        "### Constructing and querying the KD-Tree   \n",
        "\n",
        "The code in the cell below constructs the KD-tree as a KD-tree object with the required arguments. Execute the code."
      ]
    },
    {
      "cell_type": "code",
      "execution_count": 3,
      "metadata": {
        "id": "Bsaz9OcOgTBq",
        "colab": {
          "base_uri": "https://localhost:8080/"
        },
        "outputId": "a385d2ff-351e-49ad-91fc-5aac649b6b73"
      },
      "outputs": [
        {
          "output_type": "stream",
          "name": "stdout",
          "text": [
            "CPU times: user 4.8 ms, sys: 0 ns, total: 4.8 ms\n",
            "Wall time: 12.7 ms\n"
          ]
        }
      ],
      "source": [
        "%time KD_tree = KDTree(diabetes_train, leaf_size=10, metric='euclidean')"
      ]
    },
    {
      "cell_type": "markdown",
      "metadata": {
        "id": "eBG2JsClgTBq"
      },
      "source": [
        "Notice how quickly the tree was constructed. This should not be surprising given the small data set and low dimensionality of the data.   \n",
        "\n",
        "With the tree constructed we can now query the tree with the test data. The number of near neighbors is specified as 1 so that the query returns the single nearest neighbors.    \n",
        "\n",
        "> **Note:** In this case we are interested in similarity with each of the observations used to construct the KD-tree, so we use $k=1$ nearest neighbors. For other purposes, such as constructing a nearest neighbor graph, a larger value of $k$ is used. We will encounter a number algorithms using nearest neighbor graphs in subsequent lessons.   "
      ]
    },
    {
      "cell_type": "code",
      "execution_count": 4,
      "metadata": {
        "id": "-Gg0htrTgTBq",
        "colab": {
          "base_uri": "https://localhost:8080/",
          "height": 711
        },
        "outputId": "49414a31-234f-4fc3-a96c-64d87dba2877"
      },
      "outputs": [
        {
          "output_type": "stream",
          "name": "stdout",
          "text": [
            "CPU times: user 4.11 ms, sys: 33 µs, total: 4.14 ms\n",
            "Wall time: 8.05 ms\n"
          ]
        },
        {
          "output_type": "execute_result",
          "data": {
            "text/plain": [
              "    Nearest Neighbor  Distance\n",
              "19                99  0.039729\n",
              "3                139  0.047649\n",
              "15               193  0.054846\n",
              "7                196  0.055349\n",
              "4                322  0.055637\n",
              "6                285  0.056758\n",
              "13               185  0.062380\n",
              "8                359  0.062660\n",
              "2                283  0.064332\n",
              "9                166  0.065942\n",
              "10               351  0.066944\n",
              "14               361  0.071344\n",
              "17               279  0.073006\n",
              "11               236  0.077963\n",
              "18               355  0.080700\n",
              "0                334  0.083911\n",
              "16               360  0.084775\n",
              "12               352  0.086274\n",
              "1                353  0.094992\n",
              "5                398  0.108445"
            ],
            "text/html": [
              "\n",
              "  <div id=\"df-8da180a5-57df-4fe3-842f-9c3d7784e667\" class=\"colab-df-container\">\n",
              "    <div>\n",
              "<style scoped>\n",
              "    .dataframe tbody tr th:only-of-type {\n",
              "        vertical-align: middle;\n",
              "    }\n",
              "\n",
              "    .dataframe tbody tr th {\n",
              "        vertical-align: top;\n",
              "    }\n",
              "\n",
              "    .dataframe thead th {\n",
              "        text-align: right;\n",
              "    }\n",
              "</style>\n",
              "<table border=\"1\" class=\"dataframe\">\n",
              "  <thead>\n",
              "    <tr style=\"text-align: right;\">\n",
              "      <th></th>\n",
              "      <th>Nearest Neighbor</th>\n",
              "      <th>Distance</th>\n",
              "    </tr>\n",
              "  </thead>\n",
              "  <tbody>\n",
              "    <tr>\n",
              "      <th>19</th>\n",
              "      <td>99</td>\n",
              "      <td>0.039729</td>\n",
              "    </tr>\n",
              "    <tr>\n",
              "      <th>3</th>\n",
              "      <td>139</td>\n",
              "      <td>0.047649</td>\n",
              "    </tr>\n",
              "    <tr>\n",
              "      <th>15</th>\n",
              "      <td>193</td>\n",
              "      <td>0.054846</td>\n",
              "    </tr>\n",
              "    <tr>\n",
              "      <th>7</th>\n",
              "      <td>196</td>\n",
              "      <td>0.055349</td>\n",
              "    </tr>\n",
              "    <tr>\n",
              "      <th>4</th>\n",
              "      <td>322</td>\n",
              "      <td>0.055637</td>\n",
              "    </tr>\n",
              "    <tr>\n",
              "      <th>6</th>\n",
              "      <td>285</td>\n",
              "      <td>0.056758</td>\n",
              "    </tr>\n",
              "    <tr>\n",
              "      <th>13</th>\n",
              "      <td>185</td>\n",
              "      <td>0.062380</td>\n",
              "    </tr>\n",
              "    <tr>\n",
              "      <th>8</th>\n",
              "      <td>359</td>\n",
              "      <td>0.062660</td>\n",
              "    </tr>\n",
              "    <tr>\n",
              "      <th>2</th>\n",
              "      <td>283</td>\n",
              "      <td>0.064332</td>\n",
              "    </tr>\n",
              "    <tr>\n",
              "      <th>9</th>\n",
              "      <td>166</td>\n",
              "      <td>0.065942</td>\n",
              "    </tr>\n",
              "    <tr>\n",
              "      <th>10</th>\n",
              "      <td>351</td>\n",
              "      <td>0.066944</td>\n",
              "    </tr>\n",
              "    <tr>\n",
              "      <th>14</th>\n",
              "      <td>361</td>\n",
              "      <td>0.071344</td>\n",
              "    </tr>\n",
              "    <tr>\n",
              "      <th>17</th>\n",
              "      <td>279</td>\n",
              "      <td>0.073006</td>\n",
              "    </tr>\n",
              "    <tr>\n",
              "      <th>11</th>\n",
              "      <td>236</td>\n",
              "      <td>0.077963</td>\n",
              "    </tr>\n",
              "    <tr>\n",
              "      <th>18</th>\n",
              "      <td>355</td>\n",
              "      <td>0.080700</td>\n",
              "    </tr>\n",
              "    <tr>\n",
              "      <th>0</th>\n",
              "      <td>334</td>\n",
              "      <td>0.083911</td>\n",
              "    </tr>\n",
              "    <tr>\n",
              "      <th>16</th>\n",
              "      <td>360</td>\n",
              "      <td>0.084775</td>\n",
              "    </tr>\n",
              "    <tr>\n",
              "      <th>12</th>\n",
              "      <td>352</td>\n",
              "      <td>0.086274</td>\n",
              "    </tr>\n",
              "    <tr>\n",
              "      <th>1</th>\n",
              "      <td>353</td>\n",
              "      <td>0.094992</td>\n",
              "    </tr>\n",
              "    <tr>\n",
              "      <th>5</th>\n",
              "      <td>398</td>\n",
              "      <td>0.108445</td>\n",
              "    </tr>\n",
              "  </tbody>\n",
              "</table>\n",
              "</div>\n",
              "    <div class=\"colab-df-buttons\">\n",
              "\n",
              "  <div class=\"colab-df-container\">\n",
              "    <button class=\"colab-df-convert\" onclick=\"convertToInteractive('df-8da180a5-57df-4fe3-842f-9c3d7784e667')\"\n",
              "            title=\"Convert this dataframe to an interactive table.\"\n",
              "            style=\"display:none;\">\n",
              "\n",
              "  <svg xmlns=\"http://www.w3.org/2000/svg\" height=\"24px\" viewBox=\"0 -960 960 960\">\n",
              "    <path d=\"M120-120v-720h720v720H120Zm60-500h600v-160H180v160Zm220 220h160v-160H400v160Zm0 220h160v-160H400v160ZM180-400h160v-160H180v160Zm440 0h160v-160H620v160ZM180-180h160v-160H180v160Zm440 0h160v-160H620v160Z\"/>\n",
              "  </svg>\n",
              "    </button>\n",
              "\n",
              "  <style>\n",
              "    .colab-df-container {\n",
              "      display:flex;\n",
              "      gap: 12px;\n",
              "    }\n",
              "\n",
              "    .colab-df-convert {\n",
              "      background-color: #E8F0FE;\n",
              "      border: none;\n",
              "      border-radius: 50%;\n",
              "      cursor: pointer;\n",
              "      display: none;\n",
              "      fill: #1967D2;\n",
              "      height: 32px;\n",
              "      padding: 0 0 0 0;\n",
              "      width: 32px;\n",
              "    }\n",
              "\n",
              "    .colab-df-convert:hover {\n",
              "      background-color: #E2EBFA;\n",
              "      box-shadow: 0px 1px 2px rgba(60, 64, 67, 0.3), 0px 1px 3px 1px rgba(60, 64, 67, 0.15);\n",
              "      fill: #174EA6;\n",
              "    }\n",
              "\n",
              "    .colab-df-buttons div {\n",
              "      margin-bottom: 4px;\n",
              "    }\n",
              "\n",
              "    [theme=dark] .colab-df-convert {\n",
              "      background-color: #3B4455;\n",
              "      fill: #D2E3FC;\n",
              "    }\n",
              "\n",
              "    [theme=dark] .colab-df-convert:hover {\n",
              "      background-color: #434B5C;\n",
              "      box-shadow: 0px 1px 3px 1px rgba(0, 0, 0, 0.15);\n",
              "      filter: drop-shadow(0px 1px 2px rgba(0, 0, 0, 0.3));\n",
              "      fill: #FFFFFF;\n",
              "    }\n",
              "  </style>\n",
              "\n",
              "    <script>\n",
              "      const buttonEl =\n",
              "        document.querySelector('#df-8da180a5-57df-4fe3-842f-9c3d7784e667 button.colab-df-convert');\n",
              "      buttonEl.style.display =\n",
              "        google.colab.kernel.accessAllowed ? 'block' : 'none';\n",
              "\n",
              "      async function convertToInteractive(key) {\n",
              "        const element = document.querySelector('#df-8da180a5-57df-4fe3-842f-9c3d7784e667');\n",
              "        const dataTable =\n",
              "          await google.colab.kernel.invokeFunction('convertToInteractive',\n",
              "                                                    [key], {});\n",
              "        if (!dataTable) return;\n",
              "\n",
              "        const docLinkHtml = 'Like what you see? Visit the ' +\n",
              "          '<a target=\"_blank\" href=https://colab.research.google.com/notebooks/data_table.ipynb>data table notebook</a>'\n",
              "          + ' to learn more about interactive tables.';\n",
              "        element.innerHTML = '';\n",
              "        dataTable['output_type'] = 'display_data';\n",
              "        await google.colab.output.renderOutput(dataTable, element);\n",
              "        const docLink = document.createElement('div');\n",
              "        docLink.innerHTML = docLinkHtml;\n",
              "        element.appendChild(docLink);\n",
              "      }\n",
              "    </script>\n",
              "  </div>\n",
              "\n",
              "\n",
              "<div id=\"df-29b953f2-879c-4599-91c2-b79b5604d3c8\">\n",
              "  <button class=\"colab-df-quickchart\" onclick=\"quickchart('df-29b953f2-879c-4599-91c2-b79b5604d3c8')\"\n",
              "            title=\"Suggest charts\"\n",
              "            style=\"display:none;\">\n",
              "\n",
              "<svg xmlns=\"http://www.w3.org/2000/svg\" height=\"24px\"viewBox=\"0 0 24 24\"\n",
              "     width=\"24px\">\n",
              "    <g>\n",
              "        <path d=\"M19 3H5c-1.1 0-2 .9-2 2v14c0 1.1.9 2 2 2h14c1.1 0 2-.9 2-2V5c0-1.1-.9-2-2-2zM9 17H7v-7h2v7zm4 0h-2V7h2v10zm4 0h-2v-4h2v4z\"/>\n",
              "    </g>\n",
              "</svg>\n",
              "  </button>\n",
              "\n",
              "<style>\n",
              "  .colab-df-quickchart {\n",
              "      --bg-color: #E8F0FE;\n",
              "      --fill-color: #1967D2;\n",
              "      --hover-bg-color: #E2EBFA;\n",
              "      --hover-fill-color: #174EA6;\n",
              "      --disabled-fill-color: #AAA;\n",
              "      --disabled-bg-color: #DDD;\n",
              "  }\n",
              "\n",
              "  [theme=dark] .colab-df-quickchart {\n",
              "      --bg-color: #3B4455;\n",
              "      --fill-color: #D2E3FC;\n",
              "      --hover-bg-color: #434B5C;\n",
              "      --hover-fill-color: #FFFFFF;\n",
              "      --disabled-bg-color: #3B4455;\n",
              "      --disabled-fill-color: #666;\n",
              "  }\n",
              "\n",
              "  .colab-df-quickchart {\n",
              "    background-color: var(--bg-color);\n",
              "    border: none;\n",
              "    border-radius: 50%;\n",
              "    cursor: pointer;\n",
              "    display: none;\n",
              "    fill: var(--fill-color);\n",
              "    height: 32px;\n",
              "    padding: 0;\n",
              "    width: 32px;\n",
              "  }\n",
              "\n",
              "  .colab-df-quickchart:hover {\n",
              "    background-color: var(--hover-bg-color);\n",
              "    box-shadow: 0 1px 2px rgba(60, 64, 67, 0.3), 0 1px 3px 1px rgba(60, 64, 67, 0.15);\n",
              "    fill: var(--button-hover-fill-color);\n",
              "  }\n",
              "\n",
              "  .colab-df-quickchart-complete:disabled,\n",
              "  .colab-df-quickchart-complete:disabled:hover {\n",
              "    background-color: var(--disabled-bg-color);\n",
              "    fill: var(--disabled-fill-color);\n",
              "    box-shadow: none;\n",
              "  }\n",
              "\n",
              "  .colab-df-spinner {\n",
              "    border: 2px solid var(--fill-color);\n",
              "    border-color: transparent;\n",
              "    border-bottom-color: var(--fill-color);\n",
              "    animation:\n",
              "      spin 1s steps(1) infinite;\n",
              "  }\n",
              "\n",
              "  @keyframes spin {\n",
              "    0% {\n",
              "      border-color: transparent;\n",
              "      border-bottom-color: var(--fill-color);\n",
              "      border-left-color: var(--fill-color);\n",
              "    }\n",
              "    20% {\n",
              "      border-color: transparent;\n",
              "      border-left-color: var(--fill-color);\n",
              "      border-top-color: var(--fill-color);\n",
              "    }\n",
              "    30% {\n",
              "      border-color: transparent;\n",
              "      border-left-color: var(--fill-color);\n",
              "      border-top-color: var(--fill-color);\n",
              "      border-right-color: var(--fill-color);\n",
              "    }\n",
              "    40% {\n",
              "      border-color: transparent;\n",
              "      border-right-color: var(--fill-color);\n",
              "      border-top-color: var(--fill-color);\n",
              "    }\n",
              "    60% {\n",
              "      border-color: transparent;\n",
              "      border-right-color: var(--fill-color);\n",
              "    }\n",
              "    80% {\n",
              "      border-color: transparent;\n",
              "      border-right-color: var(--fill-color);\n",
              "      border-bottom-color: var(--fill-color);\n",
              "    }\n",
              "    90% {\n",
              "      border-color: transparent;\n",
              "      border-bottom-color: var(--fill-color);\n",
              "    }\n",
              "  }\n",
              "</style>\n",
              "\n",
              "  <script>\n",
              "    async function quickchart(key) {\n",
              "      const quickchartButtonEl =\n",
              "        document.querySelector('#' + key + ' button');\n",
              "      quickchartButtonEl.disabled = true;  // To prevent multiple clicks.\n",
              "      quickchartButtonEl.classList.add('colab-df-spinner');\n",
              "      try {\n",
              "        const charts = await google.colab.kernel.invokeFunction(\n",
              "            'suggestCharts', [key], {});\n",
              "      } catch (error) {\n",
              "        console.error('Error during call to suggestCharts:', error);\n",
              "      }\n",
              "      quickchartButtonEl.classList.remove('colab-df-spinner');\n",
              "      quickchartButtonEl.classList.add('colab-df-quickchart-complete');\n",
              "    }\n",
              "    (() => {\n",
              "      let quickchartButtonEl =\n",
              "        document.querySelector('#df-29b953f2-879c-4599-91c2-b79b5604d3c8 button');\n",
              "      quickchartButtonEl.style.display =\n",
              "        google.colab.kernel.accessAllowed ? 'block' : 'none';\n",
              "    })();\n",
              "  </script>\n",
              "</div>\n",
              "\n",
              "    </div>\n",
              "  </div>\n"
            ],
            "application/vnd.google.colaboratory.intrinsic+json": {
              "type": "dataframe",
              "summary": "{\n  \"name\": \"distance_frame\",\n  \"rows\": 20,\n  \"fields\": [\n    {\n      \"column\": \"Nearest Neighbor\",\n      \"properties\": {\n        \"dtype\": \"number\",\n        \"std\": 88,\n        \"min\": 99,\n        \"max\": 398,\n        \"num_unique_values\": 20,\n        \"samples\": [\n          99,\n          352,\n          334\n        ],\n        \"semantic_type\": \"\",\n        \"description\": \"\"\n      }\n    },\n    {\n      \"column\": \"Distance\",\n      \"properties\": {\n        \"dtype\": \"number\",\n        \"std\": 0.01682371796780471,\n        \"min\": 0.03972879751716405,\n        \"max\": 0.10844510952780116,\n        \"num_unique_values\": 20,\n        \"samples\": [\n          0.03972879751716405,\n          0.08627412570208473,\n          0.08391075232140482\n        ],\n        \"semantic_type\": \"\",\n        \"description\": \"\"\n      }\n    }\n  ]\n}"
            }
          },
          "metadata": {},
          "execution_count": 4
        }
      ],
      "source": [
        "np.random.seed(4545)\n",
        "%time distances, neighbors = KD_tree.query(diabetes_test, k=1)\n",
        "distance_frame = pd.DataFrame({'Nearest Neighbor':neighbors.ravel(), 'Distance':distances.ravel()})\n",
        "distance_frame.sort_values('Distance')"
      ]
    },
    {
      "cell_type": "markdown",
      "metadata": {
        "id": "a97HDVSAgTBq"
      },
      "source": [
        "Next print some summary statistics for the 20 queries just performed on the KD-tree by executing the code in the cell below.  "
      ]
    },
    {
      "cell_type": "code",
      "execution_count": 5,
      "metadata": {
        "id": "lh2e709TgTBq",
        "colab": {
          "base_uri": "https://localhost:8080/"
        },
        "outputId": "7a218e14-c752-4b97-d5fb-5db21841c4d2"
      },
      "outputs": [
        {
          "output_type": "stream",
          "name": "stdout",
          "text": [
            "Stats for the tree\n",
            "Number of trims =   169 \n",
            "number of leaves =   279 \n",
            "number of splits =    428\n"
          ]
        }
      ],
      "source": [
        "print(\"Stats for the tree\")\n",
        "print(\"Number of trims = %5d \\nnumber of leaves = %5d \\nnumber of splits = %6d\" % KD_tree.get_tree_stats())"
      ]
    },
    {
      "cell_type": "markdown",
      "metadata": {
        "id": "WFIllx9fgTBr"
      },
      "source": [
        "Finally, we can filter by similarities to find the nodes of the KD-tree that are similar to the new observations in the test dataset by applying a threshold to the distance measure. For the purpose of demonstration, we select an arbitrary distance threshold to filter on. Execute the code in the cell below to apply a similarity threshold and display the results.   "
      ]
    },
    {
      "cell_type": "code",
      "execution_count": 6,
      "metadata": {
        "id": "hyBqPZePgTBr",
        "colab": {
          "base_uri": "https://localhost:8080/"
        },
        "outputId": "73f243cb-13fd-4277-a536-ca5634cd52f5"
      },
      "outputs": [
        {
          "output_type": "stream",
          "name": "stdout",
          "text": [
            "With divisor = 2.5 and distance threshold = 0.0434\n",
            "\n",
            "The total number of similar cases = 1\n",
            "    Sample  Neighbor  Distance\n",
            "19      19        99  0.039729\n"
          ]
        }
      ],
      "source": [
        "divisor = 2.5\n",
        "distance_threshold = round(np.max(distance_frame.Distance)/divisor, 4)\n",
        "print('With divisor = ' + str(divisor) + ' and distance threshold = ' + str(distance_threshold))\n",
        "mask = distances < distance_threshold\n",
        "\n",
        "n_samples = len(diabetes_test)\n",
        "similarity_results = pd.DataFrame({'Sample':range(n_samples), 'Neighbor':neighbors.ravel(), 'Distance':distance_frame.Distance}).loc[mask.ravel(),:]\n",
        "similarity_results.sort_values('Distance', inplace=True)\n",
        "\n",
        "print('\\nThe total number of similar cases = ' + str(sum(mask)[0]))\n",
        "print(similarity_results)"
      ]
    },
    {
      "cell_type": "markdown",
      "metadata": {
        "id": "gR3zYmEhgTBr"
      },
      "source": [
        "> **Exercise 03-1:** Examine the results of the similarity search using the KD-tree algorithm and answer the following questions:\n",
        "> 1. Given the number of splits (nodes) and number of leaves of the KD-tree from the statistics printed above, do you think this tree is shallow and wide or narrow and deep, and why?         "
      ]
    },
    {
      "cell_type": "markdown",
      "metadata": {
        "id": "WRU52pWggTBr"
      },
      "source": [
        "> **Answer:**\n",
        "> 1. Based on observation, this kd-tree is narrow and deep as the dataset has multiple dimensions with ten features, which make more levels for the search space.        "
      ]
    },
    {
      "cell_type": "markdown",
      "metadata": {
        "id": "lj1qyNLzgTBr"
      },
      "source": [
        "> If `[100, 1000, 10000, 100000, 1000000]` times as many samples had been used construct and query the KD-tree, what is the expected wall clock tome required for construction and query of the KD-tree? To answer this question you need to compute the compuational complexity for these operations relative to the sames used in the running example. Use the cell below to compute and display a table of the results of your calculation. Your table should have columns showing the multiplier, the expected construction time annd the expected query time.      "
      ]
    },
    {
      "cell_type": "code",
      "execution_count": 7,
      "metadata": {
        "id": "BRXGYYligTBr",
        "colab": {
          "base_uri": "https://localhost:8080/",
          "height": 206
        },
        "outputId": "a9cc5535-1bc2-4c13-bca1-7a458b5aaf91"
      },
      "outputs": [
        {
          "output_type": "execute_result",
          "data": {
            "text/plain": [
              "   Multiplier  Expected Construction Time (s)  Expected Query Time (s)\n",
              "0         1.0                        0.000000                 0.000000\n",
              "1        10.0                        0.079726                 0.006644\n",
              "2       100.0                        1.594525                 0.013288\n",
              "3      1000.0                       23.917882                 0.019932\n",
              "4     10000.0                      318.905097                 0.026575"
            ],
            "text/html": [
              "\n",
              "  <div id=\"df-9986116c-c3ba-42b7-8c8e-ff331ce53001\" class=\"colab-df-container\">\n",
              "    <div>\n",
              "<style scoped>\n",
              "    .dataframe tbody tr th:only-of-type {\n",
              "        vertical-align: middle;\n",
              "    }\n",
              "\n",
              "    .dataframe tbody tr th {\n",
              "        vertical-align: top;\n",
              "    }\n",
              "\n",
              "    .dataframe thead th {\n",
              "        text-align: right;\n",
              "    }\n",
              "</style>\n",
              "<table border=\"1\" class=\"dataframe\">\n",
              "  <thead>\n",
              "    <tr style=\"text-align: right;\">\n",
              "      <th></th>\n",
              "      <th>Multiplier</th>\n",
              "      <th>Expected Construction Time (s)</th>\n",
              "      <th>Expected Query Time (s)</th>\n",
              "    </tr>\n",
              "  </thead>\n",
              "  <tbody>\n",
              "    <tr>\n",
              "      <th>0</th>\n",
              "      <td>1.0</td>\n",
              "      <td>0.000000</td>\n",
              "      <td>0.000000</td>\n",
              "    </tr>\n",
              "    <tr>\n",
              "      <th>1</th>\n",
              "      <td>10.0</td>\n",
              "      <td>0.079726</td>\n",
              "      <td>0.006644</td>\n",
              "    </tr>\n",
              "    <tr>\n",
              "      <th>2</th>\n",
              "      <td>100.0</td>\n",
              "      <td>1.594525</td>\n",
              "      <td>0.013288</td>\n",
              "    </tr>\n",
              "    <tr>\n",
              "      <th>3</th>\n",
              "      <td>1000.0</td>\n",
              "      <td>23.917882</td>\n",
              "      <td>0.019932</td>\n",
              "    </tr>\n",
              "    <tr>\n",
              "      <th>4</th>\n",
              "      <td>10000.0</td>\n",
              "      <td>318.905097</td>\n",
              "      <td>0.026575</td>\n",
              "    </tr>\n",
              "  </tbody>\n",
              "</table>\n",
              "</div>\n",
              "    <div class=\"colab-df-buttons\">\n",
              "\n",
              "  <div class=\"colab-df-container\">\n",
              "    <button class=\"colab-df-convert\" onclick=\"convertToInteractive('df-9986116c-c3ba-42b7-8c8e-ff331ce53001')\"\n",
              "            title=\"Convert this dataframe to an interactive table.\"\n",
              "            style=\"display:none;\">\n",
              "\n",
              "  <svg xmlns=\"http://www.w3.org/2000/svg\" height=\"24px\" viewBox=\"0 -960 960 960\">\n",
              "    <path d=\"M120-120v-720h720v720H120Zm60-500h600v-160H180v160Zm220 220h160v-160H400v160Zm0 220h160v-160H400v160ZM180-400h160v-160H180v160Zm440 0h160v-160H620v160ZM180-180h160v-160H180v160Zm440 0h160v-160H620v160Z\"/>\n",
              "  </svg>\n",
              "    </button>\n",
              "\n",
              "  <style>\n",
              "    .colab-df-container {\n",
              "      display:flex;\n",
              "      gap: 12px;\n",
              "    }\n",
              "\n",
              "    .colab-df-convert {\n",
              "      background-color: #E8F0FE;\n",
              "      border: none;\n",
              "      border-radius: 50%;\n",
              "      cursor: pointer;\n",
              "      display: none;\n",
              "      fill: #1967D2;\n",
              "      height: 32px;\n",
              "      padding: 0 0 0 0;\n",
              "      width: 32px;\n",
              "    }\n",
              "\n",
              "    .colab-df-convert:hover {\n",
              "      background-color: #E2EBFA;\n",
              "      box-shadow: 0px 1px 2px rgba(60, 64, 67, 0.3), 0px 1px 3px 1px rgba(60, 64, 67, 0.15);\n",
              "      fill: #174EA6;\n",
              "    }\n",
              "\n",
              "    .colab-df-buttons div {\n",
              "      margin-bottom: 4px;\n",
              "    }\n",
              "\n",
              "    [theme=dark] .colab-df-convert {\n",
              "      background-color: #3B4455;\n",
              "      fill: #D2E3FC;\n",
              "    }\n",
              "\n",
              "    [theme=dark] .colab-df-convert:hover {\n",
              "      background-color: #434B5C;\n",
              "      box-shadow: 0px 1px 3px 1px rgba(0, 0, 0, 0.15);\n",
              "      filter: drop-shadow(0px 1px 2px rgba(0, 0, 0, 0.3));\n",
              "      fill: #FFFFFF;\n",
              "    }\n",
              "  </style>\n",
              "\n",
              "    <script>\n",
              "      const buttonEl =\n",
              "        document.querySelector('#df-9986116c-c3ba-42b7-8c8e-ff331ce53001 button.colab-df-convert');\n",
              "      buttonEl.style.display =\n",
              "        google.colab.kernel.accessAllowed ? 'block' : 'none';\n",
              "\n",
              "      async function convertToInteractive(key) {\n",
              "        const element = document.querySelector('#df-9986116c-c3ba-42b7-8c8e-ff331ce53001');\n",
              "        const dataTable =\n",
              "          await google.colab.kernel.invokeFunction('convertToInteractive',\n",
              "                                                    [key], {});\n",
              "        if (!dataTable) return;\n",
              "\n",
              "        const docLinkHtml = 'Like what you see? Visit the ' +\n",
              "          '<a target=\"_blank\" href=https://colab.research.google.com/notebooks/data_table.ipynb>data table notebook</a>'\n",
              "          + ' to learn more about interactive tables.';\n",
              "        element.innerHTML = '';\n",
              "        dataTable['output_type'] = 'display_data';\n",
              "        await google.colab.output.renderOutput(dataTable, element);\n",
              "        const docLink = document.createElement('div');\n",
              "        docLink.innerHTML = docLinkHtml;\n",
              "        element.appendChild(docLink);\n",
              "      }\n",
              "    </script>\n",
              "  </div>\n",
              "\n",
              "\n",
              "<div id=\"df-807f85f4-58a8-4121-b8f6-84f27075d504\">\n",
              "  <button class=\"colab-df-quickchart\" onclick=\"quickchart('df-807f85f4-58a8-4121-b8f6-84f27075d504')\"\n",
              "            title=\"Suggest charts\"\n",
              "            style=\"display:none;\">\n",
              "\n",
              "<svg xmlns=\"http://www.w3.org/2000/svg\" height=\"24px\"viewBox=\"0 0 24 24\"\n",
              "     width=\"24px\">\n",
              "    <g>\n",
              "        <path d=\"M19 3H5c-1.1 0-2 .9-2 2v14c0 1.1.9 2 2 2h14c1.1 0 2-.9 2-2V5c0-1.1-.9-2-2-2zM9 17H7v-7h2v7zm4 0h-2V7h2v10zm4 0h-2v-4h2v4z\"/>\n",
              "    </g>\n",
              "</svg>\n",
              "  </button>\n",
              "\n",
              "<style>\n",
              "  .colab-df-quickchart {\n",
              "      --bg-color: #E8F0FE;\n",
              "      --fill-color: #1967D2;\n",
              "      --hover-bg-color: #E2EBFA;\n",
              "      --hover-fill-color: #174EA6;\n",
              "      --disabled-fill-color: #AAA;\n",
              "      --disabled-bg-color: #DDD;\n",
              "  }\n",
              "\n",
              "  [theme=dark] .colab-df-quickchart {\n",
              "      --bg-color: #3B4455;\n",
              "      --fill-color: #D2E3FC;\n",
              "      --hover-bg-color: #434B5C;\n",
              "      --hover-fill-color: #FFFFFF;\n",
              "      --disabled-bg-color: #3B4455;\n",
              "      --disabled-fill-color: #666;\n",
              "  }\n",
              "\n",
              "  .colab-df-quickchart {\n",
              "    background-color: var(--bg-color);\n",
              "    border: none;\n",
              "    border-radius: 50%;\n",
              "    cursor: pointer;\n",
              "    display: none;\n",
              "    fill: var(--fill-color);\n",
              "    height: 32px;\n",
              "    padding: 0;\n",
              "    width: 32px;\n",
              "  }\n",
              "\n",
              "  .colab-df-quickchart:hover {\n",
              "    background-color: var(--hover-bg-color);\n",
              "    box-shadow: 0 1px 2px rgba(60, 64, 67, 0.3), 0 1px 3px 1px rgba(60, 64, 67, 0.15);\n",
              "    fill: var(--button-hover-fill-color);\n",
              "  }\n",
              "\n",
              "  .colab-df-quickchart-complete:disabled,\n",
              "  .colab-df-quickchart-complete:disabled:hover {\n",
              "    background-color: var(--disabled-bg-color);\n",
              "    fill: var(--disabled-fill-color);\n",
              "    box-shadow: none;\n",
              "  }\n",
              "\n",
              "  .colab-df-spinner {\n",
              "    border: 2px solid var(--fill-color);\n",
              "    border-color: transparent;\n",
              "    border-bottom-color: var(--fill-color);\n",
              "    animation:\n",
              "      spin 1s steps(1) infinite;\n",
              "  }\n",
              "\n",
              "  @keyframes spin {\n",
              "    0% {\n",
              "      border-color: transparent;\n",
              "      border-bottom-color: var(--fill-color);\n",
              "      border-left-color: var(--fill-color);\n",
              "    }\n",
              "    20% {\n",
              "      border-color: transparent;\n",
              "      border-left-color: var(--fill-color);\n",
              "      border-top-color: var(--fill-color);\n",
              "    }\n",
              "    30% {\n",
              "      border-color: transparent;\n",
              "      border-left-color: var(--fill-color);\n",
              "      border-top-color: var(--fill-color);\n",
              "      border-right-color: var(--fill-color);\n",
              "    }\n",
              "    40% {\n",
              "      border-color: transparent;\n",
              "      border-right-color: var(--fill-color);\n",
              "      border-top-color: var(--fill-color);\n",
              "    }\n",
              "    60% {\n",
              "      border-color: transparent;\n",
              "      border-right-color: var(--fill-color);\n",
              "    }\n",
              "    80% {\n",
              "      border-color: transparent;\n",
              "      border-right-color: var(--fill-color);\n",
              "      border-bottom-color: var(--fill-color);\n",
              "    }\n",
              "    90% {\n",
              "      border-color: transparent;\n",
              "      border-bottom-color: var(--fill-color);\n",
              "    }\n",
              "  }\n",
              "</style>\n",
              "\n",
              "  <script>\n",
              "    async function quickchart(key) {\n",
              "      const quickchartButtonEl =\n",
              "        document.querySelector('#' + key + ' button');\n",
              "      quickchartButtonEl.disabled = true;  // To prevent multiple clicks.\n",
              "      quickchartButtonEl.classList.add('colab-df-spinner');\n",
              "      try {\n",
              "        const charts = await google.colab.kernel.invokeFunction(\n",
              "            'suggestCharts', [key], {});\n",
              "      } catch (error) {\n",
              "        console.error('Error during call to suggestCharts:', error);\n",
              "      }\n",
              "      quickchartButtonEl.classList.remove('colab-df-spinner');\n",
              "      quickchartButtonEl.classList.add('colab-df-quickchart-complete');\n",
              "    }\n",
              "    (() => {\n",
              "      let quickchartButtonEl =\n",
              "        document.querySelector('#df-807f85f4-58a8-4121-b8f6-84f27075d504 button');\n",
              "      quickchartButtonEl.style.display =\n",
              "        google.colab.kernel.accessAllowed ? 'block' : 'none';\n",
              "    })();\n",
              "  </script>\n",
              "</div>\n",
              "\n",
              "  <div id=\"id_02358857-4852-495c-85b6-f0479cfbcf25\">\n",
              "    <style>\n",
              "      .colab-df-generate {\n",
              "        background-color: #E8F0FE;\n",
              "        border: none;\n",
              "        border-radius: 50%;\n",
              "        cursor: pointer;\n",
              "        display: none;\n",
              "        fill: #1967D2;\n",
              "        height: 32px;\n",
              "        padding: 0 0 0 0;\n",
              "        width: 32px;\n",
              "      }\n",
              "\n",
              "      .colab-df-generate:hover {\n",
              "        background-color: #E2EBFA;\n",
              "        box-shadow: 0px 1px 2px rgba(60, 64, 67, 0.3), 0px 1px 3px 1px rgba(60, 64, 67, 0.15);\n",
              "        fill: #174EA6;\n",
              "      }\n",
              "\n",
              "      [theme=dark] .colab-df-generate {\n",
              "        background-color: #3B4455;\n",
              "        fill: #D2E3FC;\n",
              "      }\n",
              "\n",
              "      [theme=dark] .colab-df-generate:hover {\n",
              "        background-color: #434B5C;\n",
              "        box-shadow: 0px 1px 3px 1px rgba(0, 0, 0, 0.15);\n",
              "        filter: drop-shadow(0px 1px 2px rgba(0, 0, 0, 0.3));\n",
              "        fill: #FFFFFF;\n",
              "      }\n",
              "    </style>\n",
              "    <button class=\"colab-df-generate\" onclick=\"generateWithVariable('results_df')\"\n",
              "            title=\"Generate code using this dataframe.\"\n",
              "            style=\"display:none;\">\n",
              "\n",
              "  <svg xmlns=\"http://www.w3.org/2000/svg\" height=\"24px\"viewBox=\"0 0 24 24\"\n",
              "       width=\"24px\">\n",
              "    <path d=\"M7,19H8.4L18.45,9,17,7.55,7,17.6ZM5,21V16.75L18.45,3.32a2,2,0,0,1,2.83,0l1.4,1.43a1.91,1.91,0,0,1,.58,1.4,1.91,1.91,0,0,1-.58,1.4L9.25,21ZM18.45,9,17,7.55Zm-12,3A5.31,5.31,0,0,0,4.9,8.1,5.31,5.31,0,0,0,1,6.5,5.31,5.31,0,0,0,4.9,4.9,5.31,5.31,0,0,0,6.5,1,5.31,5.31,0,0,0,8.1,4.9,5.31,5.31,0,0,0,12,6.5,5.46,5.46,0,0,0,6.5,12Z\"/>\n",
              "  </svg>\n",
              "    </button>\n",
              "    <script>\n",
              "      (() => {\n",
              "      const buttonEl =\n",
              "        document.querySelector('#id_02358857-4852-495c-85b6-f0479cfbcf25 button.colab-df-generate');\n",
              "      buttonEl.style.display =\n",
              "        google.colab.kernel.accessAllowed ? 'block' : 'none';\n",
              "\n",
              "      buttonEl.onclick = () => {\n",
              "        google.colab.notebook.generateWithVariable('results_df');\n",
              "      }\n",
              "      })();\n",
              "    </script>\n",
              "  </div>\n",
              "\n",
              "    </div>\n",
              "  </div>\n"
            ],
            "application/vnd.google.colaboratory.intrinsic+json": {
              "type": "dataframe",
              "variable_name": "results_df",
              "summary": "{\n  \"name\": \"results_df\",\n  \"rows\": 5,\n  \"fields\": [\n    {\n      \"column\": \"Multiplier\",\n      \"properties\": {\n        \"dtype\": \"number\",\n        \"std\": 4368.044093184042,\n        \"min\": 1.0,\n        \"max\": 10000.0,\n        \"num_unique_values\": 5,\n        \"samples\": [\n          10.0,\n          10000.0,\n          100.0\n        ],\n        \"semantic_type\": \"\",\n        \"description\": \"\"\n      }\n    },\n    {\n      \"column\": \"Expected Construction Time (s)\",\n      \"properties\": {\n        \"dtype\": \"number\",\n        \"std\": 140.12441477899995,\n        \"min\": 0.0,\n        \"max\": 318.9050971091868,\n        \"num_unique_values\": 5,\n        \"samples\": [\n          0.07972627427729669,\n          318.9050971091868,\n          1.5945254855459337\n        ],\n        \"semantic_type\": \"\",\n        \"description\": \"\"\n      }\n    },\n    {\n      \"column\": \"Expected Query Time (s)\",\n      \"properties\": {\n        \"dtype\": \"number\",\n        \"std\": 0.01050485900314801,\n        \"min\": 0.0,\n        \"max\": 0.0265754247590989,\n        \"num_unique_values\": 5,\n        \"samples\": [\n          0.006643856189774725,\n          0.0265754247590989,\n          0.01328771237954945\n        ],\n        \"semantic_type\": \"\",\n        \"description\": \"\"\n      }\n    }\n  ]\n}"
            }
          },
          "metadata": {},
          "execution_count": 7
        }
      ],
      "source": [
        "run_times = [100, 1000, 10000, 100000, 1000000]\n",
        "n_times = len(run_times)\n",
        "initial_construction_time = 2.4e-3\n",
        "initial_query_time = 2.0e-3\n",
        "n_rows = n_times + 1\n",
        "\n",
        "original_size = 100\n",
        "results = []\n",
        "for N in run_times:\n",
        "    multiplier = N / original_size\n",
        "    expected_construction_time = initial_construction_time * (multiplier * np.log2(multiplier))\n",
        "    expected_query_time = initial_query_time * np.log2(multiplier)\n",
        "\n",
        "    results.append([multiplier, expected_construction_time, expected_query_time])\n",
        "\n",
        "results_df = pd.DataFrame(results, columns=['Multiplier', 'Expected Construction Time (s)', 'Expected Query Time (s)'])\n",
        "results_df"
      ]
    },
    {
      "cell_type": "markdown",
      "metadata": {
        "id": "Z_RSqN5WgTBr"
      },
      "source": [
        "> 2. What does the difference in growth of the construction time and query time tell you about the scalability of $n\\ log(n)$ vs. $log(n)$ compuational complexity?  \n",
        "> 3. There is wide range of nearest nearest neighbor distances found in the similarity search. Filtering by a distance threshold has reduced the number of similar candidates. Consider a case where you need to filter 10,000,000 cases down to 100 most similar to present top a user as search results. Given the scalablity of the query do you think this query and filtering can be done in a real-time maner of less than 20 seconds and why?     "
      ]
    },
    {
      "cell_type": "markdown",
      "metadata": {
        "id": "3MJRjCk9gTBr"
      },
      "source": [
        "> **Answers:**      \n",
        "> 2. kd-tree query operations scale well as o(log n) grows slowly even for the large datasets. But the kd-tree construction is expensive, but it still works well for the large datasets.\n",
        "> 3. Yes, the query and filtering can be dine under twenty seconds as the query itself takes milliseconds and modern computational framework can handle this more efficiently, even for the large datasets.   "
      ]
    },
    {
      "cell_type": "markdown",
      "metadata": {
        "id": "fVVqHZ2LgTBr"
      },
      "source": [
        "## Locally Sensitive Hashing\n",
        "\n",
        "\n",
        "> **Reference.** This notebook is derived from an example in [Jonathan Kernes' GitHub repository](https://github.com/Jmkernes/Locality-sensitive-hashing-tutorial).\n",
        "\n",
        "> **Note:** A more comprehsnive and more production ready versions of LSH algorithms can be foud in the [DataaSketch](https://ekzhu.com/datasketch/index.html) packge.  \n",
        "\n",
        "In these exercises you will work with mini-hashes and locally-sensitive hashes on a small test dataset. The dataset comprises 4 articles from CNN.com. The 5th item in the dataset is a test document that is a concatenation of sections of 3 of the CNN articles, first, second and fourth. This 5th article is expected to produce artificially high similarity scores. With this small dataset you can easily compare approximations from the hashing methods to the fully Jaccard similarity scores between the text files.  \n",
        "\n",
        "Key steps in this example are:\n",
        "1. Clean and split each text file into a set of K-shingles, using a shingling function.     \n",
        "2. Compute the Jaccard similarity (intersection over union) between all pairs using the full set of shingles, no approximation.   \n",
        "3. Create and apply a MinHashing class which does the following:\n",
        "    - Initialize a dictionary of key-value pairs for the shingles.\n",
        "    - Apply minhashing on a shingle set with \"universal hashing\".\n",
        "    - Create a function to compute a **signature matrix**.\n",
        "4. Evaluate the effectiveness of mini-hashing by computing Jaccard similarity scores of all document pairs.\n",
        "5. Use locally sensitive hashing (LSH) to find **candidate pairs** of high similarity documents. Specifically, use a banded signature matrix to find all pairs whose estimated similarity is above a threshold. A hash table for band and column column ids to enable fast, $O(n)$, comparisons.\n",
        "\n",
        "To begin, execute the code in the cell below to import the required packages."
      ]
    },
    {
      "cell_type": "markdown",
      "metadata": {
        "id": "oAjUV-8ngTBs"
      },
      "source": [
        "## Min-Hashing without Locality Sensitive Hashing\n",
        "\n",
        "To begin you will create, execute and evaluate a basic mini-hashing algorithm. This mini-hashing process will then become the basis for the locally sensitive hashing (LSH) algorithm you will work with later in these exercises."
      ]
    },
    {
      "cell_type": "markdown",
      "metadata": {
        "id": "9Lx_f60JgTBs"
      },
      "source": [
        "### Load the Documents\n",
        "\n",
        "The code in the cell below loads the **corpus** of 5 documents. In text processing a corpus is any collection of related documents. Execute the code to load the document files and display the first 500 characters of each text document.    \n",
        "\n",
        "> **Note:** Depending on your file system, you may need to change the `HOME` and `DIR` variables."
      ]
    },
    {
      "cell_type": "code",
      "execution_count": 8,
      "metadata": {
        "id": "I2o4wgzigTBs",
        "colab": {
          "base_uri": "https://localhost:8080/"
        },
        "outputId": "ebe132fd-afdb-4042-9fd2-16607ee10e29"
      },
      "outputs": [
        {
          "output_type": "stream",
          "name": "stdout",
          "text": [
            "\n",
            "First 500 characters of document 0\n",
            "\n",
            "Washington (CNN)White House chief of staff Mark Meadows told Food and Drug Administration Commissioner Dr. Stephen Hahn he needed to grant an emergency use authorization for Pfizer/BioNTech's coronavirus vaccine by the end of Friday, and if not, he needs to resign, an administration official and a source familiar with the situation tell CNN.\n",
            "\n",
            "Another person familiar with matter, who also confirmed the demand that the vaccine be authorized by the end of Friday, said President Donald Trump has bee\n",
            "\n",
            "First 500 characters of document 1\n",
            "\n",
            "Investigators with the Manhattan district attorney's office have interviewed several employees at President Donald Trump's lender and insurer in recent weeks as part of a wide-ranging investigation into the Trump Organization, according to multiple people familiar with the investigation.\n",
            "\n",
            "Two employees of Deutsche Bank, which has loaned more than $300 million to the Trump Organization, were interviewed by prosecutors, according to sources familiar with the matter.\n",
            "The interviews took place after\n",
            "\n",
            "First 500 characters of document 2\n",
            "\n",
            "In the final days of his desperate, dishonest campaign to upend last month's election, President Donald Trump tossed off a particularly audacious and offensive challenge aimed at those he somehow thinks can change the outcome.\n",
            "\n",
            "\"Let's see if they have the courage to do what everybody in this country knows is right,\" he said.\n",
            "With time running out, his blatant hope was to intimidate and bait state legislatures or the Supreme Court into overturning a vote of the people, by legislative or judicial \n",
            "\n",
            "First 500 characters of document 3\n",
            "\n",
            "ew quarantine hobbies have unearthed new passions, some bringing with them a literal silver lining.\n",
            "This year, backyard archaeologists in the United Kingdom have recorded discoveries of more than 47,000 objects, the British Museum announced this week.\n",
            "Regular people found the vast majority of the historical artifacts by traversing the countryside with metal detectors, before adding or updating records through the museum's Portable Antiquities Scheme.\n",
            "The British Museum said the program also saw \n",
            "\n",
            "First 500 characters of document 4\n",
            "\n",
            "ew quarantine hobbies have unearthed new passions, some bringing with them a literal silver lining.\n",
            "This year, backyard archaeologists in the United Kingdom have recorded discoveries of more than 47,000 objects, the British Museum announced this week.\n",
            "Regular people found the vast majority of the historical artifacts by traversing the countryside with metal detectors, before adding or updating records through the museum's Portable Antiquities Scheme.\n",
            "The British Museum said the program also saw \n",
            "\n",
            "First 500 characters of document 5\n",
            "\n",
            "i\n",
            "me\n",
            "my\n",
            "myself\n",
            "we\n",
            "our\n",
            "ours\n",
            "ourselves\n",
            "you\n",
            "your\n",
            "yours\n",
            "yourself\n",
            "yourselves\n",
            "he\n",
            "him\n",
            "his\n",
            "himself\n",
            "she\n",
            "her\n",
            "hers\n",
            "herself\n",
            "it\n",
            "its\n",
            "itself\n",
            "they\n",
            "them\n",
            "their\n",
            "theirs\n",
            "themselves\n",
            "what\n",
            "which\n",
            "who\n",
            "whom\n",
            "this\n",
            "that\n",
            "these\n",
            "those\n",
            "am\n",
            "is\n",
            "are\n",
            "was\n",
            "were\n",
            "be\n",
            "been\n",
            "being\n",
            "have\n",
            "has\n",
            "had\n",
            "having\n",
            "do\n",
            "does\n",
            "did\n",
            "doing\n",
            "a\n",
            "an\n",
            "the\n",
            "and\n",
            "but\n",
            "if\n",
            "or\n",
            "because\n",
            "as\n",
            "until\n",
            "while\n",
            "of\n",
            "at\n",
            "by\n",
            "for\n",
            "with\n",
            "about\n",
            "against\n",
            "between\n",
            "into\n",
            "through\n",
            "during\n",
            "before\n",
            "after\n",
            "above\n",
            "below\n",
            "to\n",
            "from\n",
            "up\n",
            "down\n",
            "in\n",
            "out\n",
            "on\n",
            "off\n",
            "over\n",
            "under\n",
            "again\n",
            "further\n",
            "then\n",
            "once\n",
            "here\n",
            "there\n",
            "when\n",
            "where\n",
            "why\n",
            "how\n",
            "a\n"
          ]
        }
      ],
      "source": [
        "HOME = os.getcwd()\n",
        "DIR = 'sampledocs/'\n",
        "TARGET = os.path.join(HOME, DIR)\n",
        "\n",
        "def print_articles(docs, num_characters=500):\n",
        "    for i in range(len(docs)):\n",
        "        print('\\nFirst 500 characters of document ' + str(i) + '\\n')\n",
        "        print(docs[i][:500])\n",
        "\n",
        "documents = []\n",
        "for article in sorted(os.listdir(TARGET)):\n",
        "#for article in os.listdir(TARGET):\n",
        "    if article == 'stopwords':\n",
        "        continue\n",
        "    path = os.path.join(TARGET, article)\n",
        "    with open(path, 'r') as file:\n",
        "        documents.append(file.read())\n",
        "\n",
        "print_articles(documents)"
      ]
    },
    {
      "cell_type": "markdown",
      "metadata": {
        "id": "4HRlE7_sgTBs"
      },
      "source": [
        "The text of these documents appear to have structure common to news articles. The question you will investigate is the similarity of these articles to each other, and particularly the last article, which is comprised of elements of documents, 0, 1 and 3."
      ]
    },
    {
      "cell_type": "markdown",
      "metadata": {
        "id": "cCcZGab9gTBs"
      },
      "source": [
        "### Document Preparation\n",
        "\n",
        "The first step in determining document similarity is to prepare the document text. Many text preprocessing steps are used in text mining. In this case, we will just do these minimum steps:\n",
        "1. Remove **Stop words** from the text. Stop words are common words very likely to occur multiple times in most any document. Since stop words occur frequently, yet have little or no semantic value, they bias the similarity between documents. Examples of common stop words are 'and' or 'the'. The code in the cell below creates a list of stop words from a file. If a stop word is encountered in the text of one of the documents, the stop word and surrounding white space is replaced by a single white space character, ' '.        \n",
        "2. Remove end of line characters, '\\n', and replace them with white space, ' '.\n",
        "3. Convert all characters to lower case.   \n",
        "\n",
        "Execute the code in the cell below to create and display the list of stop words."
      ]
    },
    {
      "cell_type": "code",
      "execution_count": 9,
      "metadata": {
        "id": "_c6B-Lg9gTBs",
        "colab": {
          "base_uri": "https://localhost:8080/"
        },
        "outputId": "d071f615-5c36-4480-ffdf-4ba374fc6bc1"
      },
      "outputs": [
        {
          "output_type": "stream",
          "name": "stdout",
          "text": [
            "['i', 'me', 'my', 'myself', 'we', 'our', 'ours', 'ourselves', 'you', 'your', 'yours', 'yourself', 'yourselves', 'he', 'him', 'his', 'himself', 'she', 'her', 'hers', 'herself', 'it', 'its', 'itself', 'they', 'them', 'their', 'theirs', 'themselves', 'what', 'which', 'who', 'whom', 'this', 'that', 'these', 'those', 'am', 'is', 'are', 'was', 'were', 'be', 'been', 'being', 'have', 'has', 'had', 'having', 'do', 'does', 'did', 'doing', 'a', 'an', 'the', 'and', 'but', 'if', 'or', 'because', 'as', 'until', 'while', 'of', 'at', 'by', 'for', 'with', 'about', 'against', 'between', 'into', 'through', 'during', 'before', 'after', 'above', 'below', 'to', 'from', 'up', 'down', 'in', 'out', 'on', 'off', 'over', 'under', 'again', 'further', 'then', 'once', 'here', 'there', 'when', 'where', 'why', 'how', 'all', 'any', 'both', 'each', 'few', 'more', 'most', 'other', 'some', 'such', 'no', 'nor', 'not', 'only', 'own', 'same', 'so', 'than', 'too', 'very', 's', 't', 'can', 'will', 'just', 'don', 'should', 'now']\n"
          ]
        }
      ],
      "source": [
        "stopwords = []\n",
        "\n",
        "with open(os.path.join(TARGET, 'stopwords.txt'), 'r') as file:\n",
        "    for line in file:\n",
        "        stopwords.append(line.strip())\n",
        "\n",
        "print(stopwords)"
      ]
    },
    {
      "cell_type": "markdown",
      "metadata": {
        "id": "HscX-bWUgTBs"
      },
      "source": [
        "Examine the list of stop words. Notice that they are all common words that generally have low semantic value.   \n",
        "\n",
        "The code in the cell below does the following:    \n",
        "1. Applies the preprocessing steps to each of the documents.    \n",
        "2. Computes and displays some simple summary statistics about the documents.   \n",
        "3. Displays the first 500 characters of the processed documents.    \n",
        "\n",
        "Execute this code."
      ]
    },
    {
      "cell_type": "code",
      "execution_count": 10,
      "metadata": {
        "id": "aANi3_9jgTBs",
        "colab": {
          "base_uri": "https://localhost:8080/"
        },
        "outputId": "37a84003-ab3e-46a3-f875-2f1c2c9fdd5c"
      },
      "outputs": [
        {
          "output_type": "stream",
          "name": "stdout",
          "text": [
            "Average char-length: 3043.8333333333335\n",
            "Min char-length: 5\n",
            "Max char-length: 5873\n",
            "\n",
            "\n",
            "\n",
            "First 500 characters of document 0\n",
            "\n",
            "washington (cnn)white house chief staff mark meadows told food drug administration commissioner dr. stephen hahn needed grant emergency use authorization pfizer/biontech's coronavirus vaccine end friday, not, needs resign, administration official source familiar situation tell cnn.  another person familiar matter, also confirmed demand vaccine authorized end friday, said president donald trump venting fda chief since vaccine rolled uk earlier week. two men call friday morning. white house offici\n",
            "\n",
            "First 500 characters of document 1\n",
            "\n",
            "investigators manhattan district attorney's office interviewed several employees president donald trump's lender insurer recent weeks part wide-ranging investigation trump organization, according multiple people familiar investigation.  two employees deutsche bank, loaned $300 million trump organization, interviewed prosecutors, according sources familiar matter. interviews took place november presidential election, people said, focused general questions bankers assess loans underwriting criteri\n",
            "\n",
            "First 500 characters of document 2\n",
            "\n",
            "in final days desperate, dishonest campaign upend last month's election, president donald trump tossed particularly audacious offensive challenge aimed somehow thinks change outcome.  \"let's see courage everybody country knows right,\" said. time running out, blatant hope intimidate bait state legislatures supreme court overturning vote people, legislative judicial fiat. trump's perverse definition \"courage\" \"right,\" course, amounts willingness bend truth prize continuation office american democr\n",
            "\n",
            "First 500 characters of document 3\n",
            "\n",
            "ew quarantine hobbies unearthed new passions, bringing literal silver lining. year, backyard archaeologists united kingdom recorded discoveries 47,000 objects, british museum announced week. regular people found vast majority historical artifacts traversing countryside metal detectors, adding updating records museum's portable antiquities scheme. british museum said program also saw uptick people updating digital records antiquities country full lockdown march 22 may 13. database contains record\n",
            "\n",
            "First 500 characters of document 4\n",
            "\n",
            "ew quarantine hobbies unearthed new passions, bringing literal silver lining. year, backyard archaeologists united kingdom recorded discoveries 47,000 objects, british museum announced week. regular people found vast majority historical artifacts traversing countryside metal detectors, adding updating records museum's portable antiquities scheme. british museum said program also saw uptick people updating digital records antiquities country full lockdown march 22 may 13. database contains record\n",
            "\n",
            "First 500 characters of document 5\n",
            "\n",
            "i now\n"
          ]
        }
      ],
      "source": [
        "for i, doc in enumerate(documents):\n",
        "    doc = doc.strip().replace('\\n', ' ').lower()\n",
        "    for word in stopwords:\n",
        "        doc = doc.replace(' '+word+' ', ' ')\n",
        "    documents[i] = doc\n",
        "\n",
        "print(f\"Average char-length: \\\n",
        "{np.mean(np.array([len(x) for x in documents]))}\")\n",
        "print(f\"Min char-length: {min(len(x) for x in documents)}\")\n",
        "print(f\"Max char-length: {max(len(x) for x in documents)}\")\n",
        "\n",
        "print('\\n')\n",
        "print_articles(documents)"
      ]
    },
    {
      "cell_type": "markdown",
      "metadata": {
        "id": "DzVuPAmngTBt"
      },
      "source": [
        "There are several observations one can make about the processed documents:   \n",
        "1. All of the documents are in a similar size range.   \n",
        "2. The preprocessing steps have been successfully carried out with stop words and end of line characters gone and the characters all lower case."
      ]
    },
    {
      "cell_type": "markdown",
      "metadata": {
        "id": "-ikvZqeigTBt"
      },
      "source": [
        "### Shingling Documents\n",
        "\n",
        "Now you are ready to shingle the documents.  \n",
        "\n",
        "> **Exercise 3-2:** You will complete the `getShingles` function below. The function uses a [Python set](https://python-reference.readthedocs.io/en/latest/docs/sets/) to create the shingles for each document. Here, we use character shingles, including white space, number and punctuation. The missing code uses a moving window of length $k$ to find the shingles. Now write code doing the following:    \n",
        "> 1. Loop over the rage of possible overlapping windows of length K.     \n",
        "> 2. In each window add the resulting shingle to the set. You can find a short overview of the Python set add method [here](https://www.w3schools.com/python/python_sets_add.asp).  \n",
        "> 3. Execute your code and examine the results."
      ]
    },
    {
      "cell_type": "code",
      "execution_count": 11,
      "metadata": {
        "id": "JW937I3agTBt",
        "colab": {
          "base_uri": "https://localhost:8080/"
        },
        "outputId": "0dfe258f-628d-49b8-bc66-f5b7bb06392f"
      },
      "outputs": [
        {
          "output_type": "stream",
          "name": "stdout",
          "text": [
            "Total shingles generated is: 2061\n",
            "Sample shingles: ['tweet', 'y, ca', 'e.\" \"', 'pfize', 'nes p', 'dent ', 'ly.\"t', 'cine ', 'rn, c', 'n @st']\n"
          ]
        }
      ],
      "source": [
        "def getShingles(text, k=5):\n",
        "    shingles = set()\n",
        "    for i in range(len(text) - k + 1):\n",
        "        shingle = text[i:i+k]\n",
        "        shingles.add(shingle)\n",
        "    return shingles\n",
        "\n",
        "k = 5\n",
        "shingles_result = getShingles(documents[0], k)\n",
        "\n",
        "print(f\"Total shingles generated is: {len(shingles_result)}\")\n",
        "print(\"Sample shingles:\", list(shingles_result)[:10])"
      ]
    },
    {
      "cell_type": "markdown",
      "metadata": {
        "id": "NftpH6-WgTBt"
      },
      "source": [
        "> Notice that the number of resulting shingles is less than the number of windows. Why would this condition arise from using a Python set and what does it mean in terms of occurrence of the shingles in a document from the univerisal set?        \n",
        "> **End of exercise.**     "
      ]
    },
    {
      "cell_type": "markdown",
      "metadata": {
        "id": "Bi680-hRgTBt"
      },
      "source": [
        "> **Answer:** the number of resulting shingles is less than the number of windows because the duplicate ones are removed. This shingling process captures uniqueness but not like that so often.     "
      ]
    },
    {
      "cell_type": "markdown",
      "metadata": {
        "id": "0YDUEUpmgTBt"
      },
      "source": [
        "### Compute the Jaccard similarity      \n",
        "\n",
        "> **Exercise 3-3:** The code in the cell below uses the sets of shingles to compute the Jaccard similarity between the five documents. Two lists are created, one for the pair labels and one for the Jaccard similarity.\n",
        "> You will complete the `jaccardSim` function. The function should return the length of the **intersection** of the data set divided by the length of the **union** of the set. Use the built in Python methods [intersection](https://www.w3schools.com/python/ref_set_intersection.asp) and [union](https://python-reference.readthedocs.io/en/latest/docs/sets/union.html) compute the intersection and the union of the shingle sets.       "
      ]
    },
    {
      "cell_type": "code",
      "execution_count": 12,
      "metadata": {
        "id": "9K6yCIzJgTBt",
        "colab": {
          "base_uri": "https://localhost:8080/"
        },
        "outputId": "fe908d4a-3dea-4b15-fda4-3384b65334c0"
      },
      "outputs": [
        {
          "output_type": "stream",
          "name": "stdout",
          "text": [
            "**True similarity scores**\n",
            "Pair\tScore\n",
            "--------------\n",
            "(0, 1)\t0.093\n",
            "(0, 2)\t0.069\n",
            "(0, 3)\t0.050\n",
            "(0, 4)\t0.336\n",
            "(0, 5)\t0.000\n",
            "(1, 2)\t0.081\n",
            "(1, 3)\t0.052\n",
            "(1, 4)\t0.295\n",
            "(1, 5)\t0.000\n",
            "(2, 3)\t0.052\n",
            "(2, 4)\t0.083\n",
            "(2, 5)\t0.000\n",
            "(3, 4)\t0.400\n",
            "(3, 5)\t0.000\n",
            "(4, 5)\t0.000\n"
          ]
        }
      ],
      "source": [
        "def jaccardSim(d1, d2):\n",
        "    intersection = len(d1.intersection(d2))\n",
        "    union = len(d1.union(d2))\n",
        "\n",
        "    return intersection / union if union != 0 else 0\n",
        "\n",
        "k = 5\n",
        "doc_shingles = [getShingles(doc, k) for doc in documents]\n",
        "\n",
        "pair_labels = []\n",
        "pair_sims = []\n",
        "\n",
        "for x1, x2 in itertools.combinations(zip(range(len(doc_shingles)), doc_shingles), 2):\n",
        "    pair_labels.append((x1[0], x2[0]))\n",
        "    pair_sims.append(jaccardSim(x1[1], x2[1]))\n",
        "\n",
        "print(f\"**True similarity scores**\")\n",
        "print(\"Pair\\tScore\")\n",
        "print(\"-\" * 14)\n",
        "for pair, score in zip(pair_labels, pair_sims):\n",
        "    print(f\"{pair}\\t{score:.3f}\")"
      ]
    },
    {
      "cell_type": "markdown",
      "metadata": {
        "id": "HAS9OfNbgTBt"
      },
      "source": [
        "> Which 3 of these similarity pairs have the largest Jaccard similarity scores and given the nature of these documents, is this result expected?     \n",
        "> **End of exercise.**"
      ]
    },
    {
      "cell_type": "markdown",
      "metadata": {
        "id": "Vlz3tjZ3gTBt"
      },
      "source": [
        "> **Answer:** top3 most similar parts are (3,4) with 0.400, (0,4) with 0.336 and (1,4) with 0.295. These reults are expected as documents with related content are having higher similarty scores.   "
      ]
    },
    {
      "cell_type": "markdown",
      "metadata": {
        "id": "oqtLecAWgTBu"
      },
      "source": [
        "### Prepare a Shingle Dictionary with Universal Set   \n",
        "\n",
        "To prepare for mini-hashing of these documents a shingle dictionary using the universal set of shingles must be created. The code in the cell below does the following:  \n",
        "1. Uses the Python `set.union` method to create a Python with the universal set of shingles.   \n",
        "2. Instantiate a Python dictionary using the universal set as the key values.    \n",
        "3. Print the number of unique shingles found.     \n",
        "Execute this code.   "
      ]
    },
    {
      "cell_type": "code",
      "execution_count": 13,
      "metadata": {
        "id": "23mgXFGHgTBx",
        "colab": {
          "base_uri": "https://localhost:8080/"
        },
        "outputId": "4f1f9d9e-11a3-4e46-c0ba-f81b2917163f"
      },
      "outputs": [
        {
          "output_type": "stream",
          "name": "stdout",
          "text": [
            "Number of unique shingles = 7537\n"
          ]
        }
      ],
      "source": [
        "## Find the univeral set as the union of all shingles and\n",
        "## then create a dictionary using the universal set as keys.\n",
        "universal_set = set.union(*doc_shingles)\n",
        "shingle_dict = dict(zip(list(universal_set),range(len(universal_set))))\n",
        "print(f\"Number of unique shingles = {len(shingle_dict)}\")"
      ]
    },
    {
      "cell_type": "markdown",
      "metadata": {
        "id": "_fAsaofIgTBx"
      },
      "source": [
        "As is typical for even small documents, the number of unique shingles is quite large.       \n",
        "\n",
        "Next, execute the code in the cell below to display the first 40 of these shingles."
      ]
    },
    {
      "cell_type": "code",
      "execution_count": 14,
      "metadata": {
        "id": "uB6kfuvugTBx",
        "colab": {
          "base_uri": "https://localhost:8080/"
        },
        "outputId": "8d7b75ba-0899-45a2-c1b6-018df10baf93"
      },
      "outputs": [
        {
          "output_type": "execute_result",
          "data": {
            "text/plain": [
              "['ce go',\n",
              " 'ic tr',\n",
              " 'uired',\n",
              " 'e.\" \"',\n",
              " 'maril',\n",
              " 'nes p',\n",
              " 'on wr',\n",
              " 'monar',\n",
              " 'h fin',\n",
              " ' news',\n",
              " 'plica',\n",
              " 'y man',\n",
              " 's une',\n",
              " 'ier y',\n",
              " 'shing',\n",
              " '. loc',\n",
              " 'ne ex',\n",
              " 'use a',\n",
              " ' effo',\n",
              " 'me co',\n",
              " 'nal l',\n",
              " 'rnitu',\n",
              " 'ek. r',\n",
              " 'nk op',\n",
              " 'else,',\n",
              " ' fitt',\n",
              " 'idenc',\n",
              " 'urged',\n",
              " 'yn ja',\n",
              " 'ns. n',\n",
              " 'eries',\n",
              " 't ins',\n",
              " 'ves!!',\n",
              " 't) en',\n",
              " 'nies ',\n",
              " ' coop',\n",
              " 'ice a',\n",
              " ' week',\n",
              " ' \"ens',\n",
              " 'th lo']"
            ]
          },
          "metadata": {},
          "execution_count": 14
        }
      ],
      "source": [
        "list(shingle_dict.keys())[:40]"
      ]
    },
    {
      "cell_type": "markdown",
      "metadata": {
        "id": "woWv8oIMgTBy"
      },
      "source": [
        "It is no surprise that each shingle contains 5 characters. Notice that these characters can include white space and punctuation.   "
      ]
    },
    {
      "cell_type": "markdown",
      "metadata": {
        "id": "-25hcIdcgTBy"
      },
      "source": [
        "### 3. Define the HashManager class\n",
        "\n",
        "The MashManager class is used to instantiate and manage the capable of creating a signature matrix. To maintain reasonable performance and minimize memory use on the sparse characteristic matrix, this class **only works with Python sets**, not arrays. Unfortunately, using sets leads to some more difficult to understand code.    \n",
        "\n",
        "Looking at how the provided test cases are executed will help you understand how the methods of this class are used. The methods are:   \n",
        "1. `_initParams`, initializes the signature matrix as random numbers in the range $[0,size\\ of\\ universal\\ set-1]$, using [numpy.random.randint](https://numpy.org/doc/stable/reference/random/generated/numpy.random.randint.html).\n",
        "2. `_permuteRow`, computes a hash of the row indicies used to find permutations of the characteristic matrix.    \n",
        "3. `__call__` does the heavy lifting:  \n",
        "  - Create a new signature matrix if required.  \n",
        "  - Initialize the signature matrix with infinity values, [numpy.inf](https://numpy.org/devdocs/reference/constants.html).\n",
        "  - Loop over all documents and for each shingle in each document updated the signature matrix if the new values of the mini-hash are less that the old values.    \n",
        "\n",
        "Execute the code in the cell below to initialize the HashManager class and run some test cases.  "
      ]
    },
    {
      "cell_type": "code",
      "execution_count": 15,
      "metadata": {
        "id": "L1NxNAUZgTBy",
        "colab": {
          "base_uri": "https://localhost:8080/"
        },
        "outputId": "1f3fc310-7498-4b52-a42c-6e4280960bcb"
      },
      "outputs": [
        {
          "output_type": "stream",
          "name": "stdout",
          "text": [
            "Initialization test: passed\n",
            "Set parameters to right size: passed\n",
            "Permuting a row integer returns array: passed\n",
            "Compute minhashed signature matrix: passed\n"
          ]
        }
      ],
      "source": [
        "# Create a hash function\n",
        "# define as a callable class, so that we only\n",
        "# intialize random functions once\n",
        "class HashManager():\n",
        "    def __init__(self, shingle_dict):\n",
        "        self.shingle_dict = shingle_dict\n",
        "        self.N = len(shingle_dict)\n",
        "        self.params = None\n",
        "    def _initParams(self, n_sig):\n",
        "        self.params = np.random.randint(self.N, size=[n_sig,2])\n",
        "    def _permuteRow(self, row):\n",
        "        return (self.params@np.array([1,row]))%self.N\n",
        "    def __call__(self, docs, n_sig, init=True):\n",
        "        # Initialize if we change signature matrix length\n",
        "        # or if we request to re-initialize\n",
        "        if self.params is None or len(self.params) != n_sig or init:\n",
        "            self._initParams(n_sig)\n",
        "        #initialize signature matrix\n",
        "        sig = np.full((n_sig, len(docs)), np.inf)\n",
        "        # each doc in docs is assumed to be an iterable object\n",
        "        for j, doc in enumerate(docs):\n",
        "            for shingle in doc:\n",
        "                orig_row = shingle_dict[shingle]\n",
        "                curr_col = self._permuteRow(orig_row)\n",
        "                sig[:,j] = np.minimum(sig[:,j],curr_col)\n",
        "        return sig.astype(int)\n",
        "\n",
        "# run some tests:\n",
        "try:\n",
        "    print(\"Initialization test: \", end=\"\")\n",
        "    hm = HashManager(shingle_dict)\n",
        "    print(\"passed\")\n",
        "\n",
        "    print(\"Set parameters to right size: \", end=\"\")\n",
        "    hm._initParams(n_sig=4)\n",
        "    assert(hm.params.shape == (4,2))\n",
        "    print(\"passed\")\n",
        "\n",
        "    print(\"Permuting a row integer returns array: \", end=\"\")\n",
        "    curr_col = hm._permuteRow(3)\n",
        "    assert(curr_col.shape == (4,))\n",
        "    print(\"passed\")\n",
        "\n",
        "    print(\"Compute minhashed signature matrix: \", end=\"\")\n",
        "    hm(doc_shingles, 4)\n",
        "    print(\"passed\")\n",
        "except Exception as e:\n",
        "    print(\"failure\")\n",
        "    print(e.args)"
      ]
    },
    {
      "cell_type": "markdown",
      "metadata": {
        "id": "QweYIYWlgTBy"
      },
      "source": [
        "With the `HashManager` class defined, execute the code in the cell below to create an instance."
      ]
    },
    {
      "cell_type": "code",
      "execution_count": 16,
      "metadata": {
        "id": "pcOUJkVngTBy"
      },
      "outputs": [],
      "source": [
        "np.random.seed(4856)\n",
        "hm = HashManager(shingle_dict)"
      ]
    },
    {
      "cell_type": "markdown",
      "metadata": {
        "id": "IKPlU-x3gTBy"
      },
      "source": [
        "###  Mini-Hashing Performance\n",
        "\n",
        "Now you will compute and compare similarity scores between the simple mini-hash approximation and the full Jaccard similarity using the shingled documents.\n",
        "\n",
        "The following functions are provided:   \n",
        "1. `trueSimScores` function computes the Jaccard similarities of each possible combination of the shingled documents.   \n",
        "2. `sigSimScores` function computes the Jarracd similarities between each possible combination of mini-hashes of a document.  \n",
        "3. `candidatePairs` function finds combinations of mini-hashes that have a similarity greater than the threshold.  \n",
        "4. `printScoreComparison` function prints the comparison between the mini-hash similarity and the full Jaccard similarity. Similarities computed by Jaccard similarity on the full set of shingles are assumed to be the ground truth.  \n",
        "5. `accMatrix`function prints some summary statistics comparing the similarity methods.    \n",
        "\n",
        "Execute this code and examine the results.   "
      ]
    },
    {
      "cell_type": "code",
      "execution_count": 17,
      "metadata": {
        "id": "W9QmLc55gTBy",
        "colab": {
          "base_uri": "https://localhost:8080/"
        },
        "outputId": "32e013ad-3fd9-43dd-cc25-e6f49e31cee2"
      },
      "outputs": [
        {
          "output_type": "stream",
          "name": "stdout",
          "text": [
            "Comparison of similarity scores between mini-hash approximation and full Jaccard similarity\n",
            "Pair\t\tApprox\t\tTrue\t\t%Error\n",
            "(0, 1)\t\t0.000\t\t0.093\t\t100.00\n",
            "(0, 2)\t\t0.000\t\t0.069\t\t100.00\n",
            "(0, 3)\t\t0.000\t\t0.050\t\t100.00\n",
            "(0, 4)\t\t0.200\t\t0.336\t\t40.54\n",
            "(0, 5)\t\t0.000\t\t0.000\t\tnan\n",
            "(1, 2)\t\t0.000\t\t0.081\t\t100.00\n",
            "(1, 3)\t\t0.000\t\t0.052\t\t100.00\n",
            "(1, 4)\t\t0.100\t\t0.295\t\t66.06\n",
            "(1, 5)\t\t0.000\t\t0.000\t\tnan\n",
            "(2, 3)\t\t0.000\t\t0.052\t\t100.00\n",
            "(2, 4)\t\t0.000\t\t0.083\t\t100.00\n",
            "(2, 5)\t\t0.000\t\t0.000\t\tnan\n",
            "(3, 4)\t\t0.600\t\t0.400\t\t49.87\n",
            "(3, 5)\t\t0.000\t\t0.000\t\tnan\n",
            "(4, 5)\t\t0.000\t\t0.000\t\tnan\n",
            "Variance = nan\n",
            "\n",
            "\n",
            "Comparison of similarity measure methods at threshold = 0.25\n",
            "Pairs by full Jaccard similarity: {(0, 4), (3, 4), (1, 4)}\n",
            "Candidate pairs from mini-hashing: {(3, 4)}\n",
            "\n",
            "\n",
            "False negatives: 2\n",
            "Potential false positives: 0\n"
          ]
        },
        {
          "output_type": "stream",
          "name": "stderr",
          "text": [
            "<ipython-input-17-a74652397739>:27: RuntimeWarning: invalid value encountered in scalar divide\n",
            "  err = abs(true_value-approx_value)/true_value\n"
          ]
        }
      ],
      "source": [
        "def trueSimScores(doc_shingles):\n",
        "    pair_labels = []\n",
        "    pair_sims = []\n",
        "    idxs = range(len(doc_shingles))\n",
        "    for x1, x2 in itertools.combinations(zip(idxs,doc_shingles), 2):\n",
        "        pair_labels.append((x1[0], x2[0]))\n",
        "        pair_sims.append(jaccardSim(x1[1], x2[1]))\n",
        "    return dict(zip(pair_labels, pair_sims))\n",
        "\n",
        "def sigSimScores(sig_mat):\n",
        "    cols = sig_mat.T\n",
        "    idxs = range(sig_mat.shape[1])\n",
        "\n",
        "    pair_labels = []\n",
        "    pair_sims = []\n",
        "    for (i,col1), (j,col2) in itertools.combinations(zip(idxs, cols),2):\n",
        "        pair_labels.append((i,j))\n",
        "        pair_sims.append(np.mean(col1==col2))\n",
        "    return dict(zip(pair_labels, pair_sims))\n",
        "\n",
        "def printScoreComparison(true_dict, approx_dict):\n",
        "    print(f\"Comparison of similarity scores between mini-hash approximation and full Jaccard similarity\")\n",
        "    print(\"Pair\\t\\tApprox\\t\\tTrue\\t\\t%Error\")\n",
        "    errors =[]\n",
        "    for pair, true_value in true_dict.items():\n",
        "        approx_value = approx_dict[pair]\n",
        "        err = abs(true_value-approx_value)/true_value\n",
        "        errors.append(err)\n",
        "        print(f\"{pair}\\t\\t{approx_value:.3f}\\t\\t{true_value:.3f}\\t\\t{100*err:.2f}\")\n",
        "    print(f\"Variance = {np.var(errors)}\")\n",
        "\n",
        "def candidatePairs(score_dict, threshold):\n",
        "    return set(pair for pair, scr in score_dict.items() if scr>=threshold)\n",
        "\n",
        "def accMatrix(true_dict, approx_dict, threshold):\n",
        "    true_pairs = candidatePairs(true_dict, threshold)\n",
        "    approx_pairs = candidatePairs(approx_dict, threshold)\n",
        "\n",
        "    false_negatives = len(true_pairs.difference(approx_pairs))\n",
        "    false_positives = len(approx_pairs.difference(true_pairs))\n",
        "\n",
        "    print('\\n')\n",
        "    print(f\"False negatives: {false_negatives}\")\n",
        "    print(f\"Potential false positives: {false_positives}\")\n",
        "\n",
        "np.random.seed(9844)\n",
        "sig_mat = hm(doc_shingles, 10)\n",
        "true_score_dict = trueSimScores(doc_shingles)\n",
        "approx_score_dict = sigSimScores(sig_mat)\n",
        "printScoreComparison(true_score_dict, approx_score_dict)\n",
        "\n",
        "threshold = 0.25\n",
        "print('\\n\\nComparison of similarity measure methods at threshold = ' + str(threshold))\n",
        "print(\"Pairs by full Jaccard similarity:\",candidatePairs(true_score_dict, threshold))\n",
        "print(\"Candidate pairs from mini-hashing:\",candidatePairs(approx_score_dict, threshold))\n",
        "accMatrix(true_score_dict, approx_score_dict, threshold)\n"
      ]
    },
    {
      "cell_type": "markdown",
      "metadata": {
        "id": "dnO6t3vegTBz"
      },
      "source": [
        "> **Exercise 3-4** Provide short answers to the following questions:    \n",
        "> 1. Tables of performance statistics are printed above. The first table compares the pair-wise similarity measures. The second table compares the similar pairs found by both methods. What do these summaries tell you about the variance of the mini-hash approximation and why is this result expected.\n",
        "> 2. Based on the results displayued, explain the false negatives and false positives counts given the pairs found by the full Jaccard similarity and mini-hashing.      \n",
        "> **End of exercise.**"
      ]
    },
    {
      "cell_type": "markdown",
      "metadata": {
        "id": "NMsZ57fEgTBz"
      },
      "source": [
        "> **Answers:**    \n",
        "> 1. The variance is expected for these small numbers of hash functions, and can be further improved with more hash functions as it is an approximation method depending on the number of hash functions.\n",
        "> 2. (0,4) case occurs a false negative, but no false positives. Thus, it is saying Min-Hashing is conservative in selcting similar pairs."
      ]
    },
    {
      "cell_type": "markdown",
      "metadata": {
        "id": "Hj6TjtwmgTBz"
      },
      "source": [
        "## Locality Sensitive Hashing\n",
        "\n",
        "### Banding Signature Matrix\n",
        "\n",
        "You have just seen that the basic mini-hashing algorithm has high variance. Algorithms which band the signature matrix can significantly reduce this variance, by averaging out independent errors. Mini-hash estimates of similarity are computed for each of $b$ bands of the signature matrix. If the signature matrix has $n$ rows, we divide it into $b$ bands each of width $r$, such that $n = b*r$.\n",
        "\n",
        "Let $p$ be the true similarity score (match percent) between a pair. The probability of matching every hash in a band is:\n",
        "\n",
        "$$\\text{prob. all hashes match } = p^r$$\n",
        "\n",
        "The probability of one of $r$ hashes mismatch is:  \n",
        "\n",
        "$$\\text{prob. one hash mismatch } = 1 - p^r$$\n",
        "\n",
        "Now, the probability that at least 1 of the 𝑟 mini-hashes disagree in the 𝑏 bands:\n",
        "\n",
        "$$\\text{prob. no bands match } = (1-p^r)^b$$\n",
        "\n",
        "Therefore, the probability that the $b$ bands do match, is:\n",
        "\n",
        "$$P(\\geq 1\\text{ match}) = 1-(1-p^r)^b$$\n",
        "\n",
        "For a decision threshold of $1/2$, the decision criteria used is that two variables are a candidate pair if $p \\geq 1/2$. For a fixed value of $n$, the number of mini-hashes, one can tune the mini-hash by choosing $r$ and $b$ to approximately a step function around the true value of $p$. The goal is to find all true candidate pairs while minimizing false positive detections. This requirement dictates that some analysis is required to optimize for specific problems.  \n",
        "\n",
        "The code in the cell below computes and displays the decision curves for a fixed $n$ for various values of ${r,b}$.  "
      ]
    },
    {
      "cell_type": "code",
      "execution_count": 18,
      "metadata": {
        "id": "j4Je6vpXgTBz",
        "colab": {
          "base_uri": "https://localhost:8080/",
          "height": 527
        },
        "outputId": "086dee39-54bd-482e-c64e-b83e5c6ce24e"
      },
      "outputs": [
        {
          "output_type": "stream",
          "name": "stderr",
          "text": [
            "<ipython-input-18-f8bdbf5f52d1>:7: MatplotlibDeprecationWarning: Passing label as a length 2 sequence when plotting a single dataset is deprecated in Matplotlib 3.9 and will error in 3.11.  To keep the current behavior, cast the sequence to string before passing.\n",
            "  plt.plot(pts, yval(pts,op[0],op[1]), label=op)\n"
          ]
        },
        {
          "output_type": "display_data",
          "data": {
            "text/plain": [
              "<Figure size 640x480 with 1 Axes>"
            ],
            "image/png": "[encoded data removed]"
          },
          "metadata": {}
        }
      ],
      "source": [
        "import matplotlib.pyplot as plt\n",
        "n = 200\n",
        "ops = [(2,100),(4,50),(10,20),(20,10),(50,4),(100,2)]\n",
        "yval = lambda p,r,b: 1-(1-p**r)**b\n",
        "pts = np.linspace(0,1,100)\n",
        "for op in ops:\n",
        "    plt.plot(pts, yval(pts,op[0],op[1]), label=op)\n",
        "plt.hlines(0.5,0,1, linestyles ='dashed', colors ='k')\n",
        "plt.vlines(0.5,0,1, linestyles ='-.', colors ='k')\n",
        "plt.legend()\n",
        "plt.xlabel('p')\n",
        "plt.ylabel('Probability')\n",
        "plt.title(\"legend: (r,b). p_true=0.5 (vertical line)\")\n",
        "plt.show()"
      ]
    },
    {
      "cell_type": "markdown",
      "metadata": {
        "id": "f3pa2tGbgTBz"
      },
      "source": [
        "> **Exercise 3-5:** Examine the curves in the plot and provide short .\n",
        "> 1. How does the position of the curve change with values of r and b for a fixed n and how does this change the optimal decision threshold?\n",
        "> 2. How will the rate of true positives and false positives change with r and b? Hint, note how the steepness of the curve changes with r and b.    \n",
        "> **End of exercise.**"
      ]
    },
    {
      "cell_type": "markdown",
      "metadata": {
        "id": "YIOjPkxzgTBz"
      },
      "source": [
        "> **Answers:**    \n",
        "> 1. The position of curve shifts are based on values of r (rows) and b (bands). And also the optimal decision threshold moves depending on r and b. Therefore, tuning r and b can control how lenient/strict the similarity trheshold in identifying canditate pairs.    \n",
        "> 2. Choosing the right balance between r-rows and b-bands is very critical, as it is minimizing false positives as well as maintain higher recall of true positives.    "
      ]
    },
    {
      "cell_type": "markdown",
      "metadata": {
        "id": "qCr3Qs1zgTB0"
      },
      "source": [
        "### Finding optimal parameters\n",
        "\n",
        "Consider the variables for the decision problem of determining which pairs of variables are similar:  \n",
        "- $p$, the **crossover point** or **decision point**, values above p are considered similar.   \n",
        "- $b$, the number of bands of the signature matrix.  \n",
        "- $r$, the number of mini-hashes in each band.  \n",
        "- $n$, the number of samples, with $n=br$.\n",
        "\n",
        "For a fixed $n, p$ it is possible to solve for the optimal values r,b. Conversely of a fixed $n,r,b$ we can determine the crossover point $p$ for the decision, $p=f(b,r)$. Let's start with $p=1/2$.\n",
        "$$1/2 = 1-(1-p^r)^b$$\n",
        "$$ 1-p^r = 2^{-1/b}$$\n",
        "$$p = (1-2^{-1/b})^{1/r} = (1-e^{-(1/b)\\ln2})^{1/r} \\approx (1/b)^{1/r}*\\text{const}$$\n",
        "\n",
        "If we fix $r$ and $p$, we can find the required number of bands to be about\n",
        "$b \\approx 1/p^r$\n",
        "\n",
        "You have already scene how changing $r$ and $b$ for a fixed $n$ shifts the decision curve. The code in the cell below plots the decision function curve for several optimal values of $r,b$ with increasing $n$. The values of $r$ are considered optimal since the crossing point, $p=0.5, for each combination. Execute the code and examine the results.      "
      ]
    },
    {
      "cell_type": "code",
      "execution_count": 19,
      "metadata": {
        "id": "1G1m8TJxgTB0",
        "colab": {
          "base_uri": "https://localhost:8080/",
          "height": 449
        },
        "outputId": "41dd3a6d-97a5-4f6b-fa39-f19550c9683a"
      },
      "outputs": [
        {
          "output_type": "display_data",
          "data": {
            "text/plain": [
              "<Figure size 640x480 with 1 Axes>"
            ],
            "image/png": "[encoded data removed]"
          },
          "metadata": {}
        }
      ],
      "source": [
        "x = np.linspace(0,1,100)\n",
        "for b,r,col in [(5,3,'r'),(40,6,'b'),(150,8,'g'),(700,10,'b')]:\n",
        "    y = 1-(1-x**r)**b\n",
        "    plt.plot(x,y,c=col,label=f\"b={b},r={r}, n={b*r}\")\n",
        "plt.hlines(0.5,0,1, linestyles ='dashed', colors ='k')\n",
        "plt.vlines(0.5,0,1, linestyles ='-.', colors ='k')\n",
        "plt.legend()\n",
        "plt.xlabel('p')\n",
        "plt.ylabel('Probability')\n",
        "\n",
        "plt.legend()\n",
        "plt.show()"
      ]
    },
    {
      "cell_type": "markdown",
      "metadata": {
        "id": "yuWLLlPLgTB0"
      },
      "source": [
        "> **Exercise 3-6:** Keeping in mind that a steeper curve is a better decision function, for optimal $r,b$, what do these curves tell you about the value of increasing $n$.    \n",
        "> **End of exercise.**"
      ]
    },
    {
      "cell_type": "markdown",
      "metadata": {
        "id": "4kB26lDHgTB0"
      },
      "source": [
        "> **Answer:** by the figure, we can see increasing n leads to a more reliable decision boundary which helps improve the effectiveness of similarity detection. But there is also a trade-off that higher n will increase the computational costs undoubtly.  "
      ]
    },
    {
      "cell_type": "markdown",
      "metadata": {
        "id": "KbtTHhSFgTB0"
      },
      "source": [
        "### LSH with Banded Mini-Hash\n",
        "\n",
        "Let's try a simple example of banded mini-hashing. Specifically, the OR-AND method is applied to a banded signature matrix.       \n",
        "The code in the cell below implements the algorithm is a straight-forward way. While not optimal in terms of computational complexity, the code is intended to make the algorithm clear. The functions provided are:    \n",
        "1. `bandedCandidatePair`, is a function which first computes a logical array of matches between two columns, then divides that array into $b$ bands and determines if any of these bands are all true values, or all matches. The signature matrix is divided into bands using [numpy.array_split](https://numpy.org/doc/stable/reference/generated/numpy.array_split.html).\n",
        "2. `bandedCandidatePairs`, calls the bandedCandidatePair function for each combination of columns, and if that function returns a logical true (a match of at least one band) the keys for the pair are added to the pairs list.\n",
        "\n",
        "Execute the code and examine the results.  "
      ]
    },
    {
      "cell_type": "code",
      "execution_count": 20,
      "metadata": {
        "id": "zRBWuz9PgTB0",
        "colab": {
          "base_uri": "https://localhost:8080/"
        },
        "outputId": "65f63143-27b5-4a4f-ecfe-fe7b11a18534"
      },
      "outputs": [
        {
          "output_type": "stream",
          "name": "stdout",
          "text": [
            "\n",
            "Pairs found by Jaccard similarity of all shingles: {(0, 4), (3, 4), (1, 4)}\n",
            "Pairs found with LSH: set()\n",
            "Simple MinHash pairs: {(0, 4), (3, 4), (1, 4)}\n"
          ]
        }
      ],
      "source": [
        "def bandedCandidatePair(col1, col2, b, r):\n",
        "    \"\"\"Returns a boolean if the two columns are a candidate pair\n",
        "    inputs must obey n=len(col1)=len(col2)=b*r\"\"\"\n",
        "    n = len(col1)\n",
        "    assert(n==b*r)\n",
        "    assert(n==len(col2))\n",
        "    truth_array = (col1==col2)\n",
        "    return any(all(band) for band in np.array_split(truth_array,b))\n",
        "\n",
        "def bandedCandidatePairs(sig_mat, b, r):\n",
        "    d = sig_mat.shape[1]\n",
        "    idxs = range(d)\n",
        "    cols = [sig_mat[:,i] for i in range(d)]\n",
        "    pairs = set()\n",
        "    for (i,col1), (j,col2) in itertools.combinations(zip(idxs,cols),2):\n",
        "        if bandedCandidatePair(col1,col2,b,r):\n",
        "            pairs.add((i,j))\n",
        "    return pairs\n",
        "\n",
        "# set p = 0.3 arbitrarily\n",
        "p = 0.25\n",
        "n = 120\n",
        "b = 20\n",
        "r = 6\n",
        "\n",
        "# see how many candidate pairs we got right!\n",
        "np.random.seed(57988)\n",
        "sig_mat = hm(doc_shingles, n)\n",
        "true_score_dict = trueSimScores(doc_shingles)\n",
        "approx_score_dict = sigSimScores(sig_mat)\n",
        "\n",
        "print(\"\\nPairs found by Jaccard similarity of all shingles:\",candidatePairs(true_score_dict, p))\n",
        "print(\"Pairs found with LSH:\",bandedCandidatePairs(sig_mat, b, r))\n",
        "print(\"Simple MinHash pairs:\",candidatePairs(approx_score_dict, p))"
      ]
    },
    {
      "cell_type": "markdown",
      "metadata": {
        "id": "QfyFfmXngTB0"
      },
      "source": [
        "> **Exercise 03-7:** Provide short answers to the following questions:    \n",
        "> 1. Examine the code in the `return` statement of the `bandedCandidatePair` function. Explain why this code implements the OR-AND construction algorithm.  \n",
        "> 2. Compare the candidate pairs found by the three methods. Given the composition of document 4 which errors are made in terms of false positive and false negative by each of the methods, and what does this result tell you about their respective accuracies?"
      ]
    },
    {
      "cell_type": "markdown",
      "metadata": {
        "id": "AzNKG1AAgTB1"
      },
      "source": [
        "> **Answers:**\n",
        "> 1. the function splits the truth_array in to b bands, and in each band, all(band) checks all r rows. This is definitely AND function. Then the function checks any(all(band) for band in ) to check if at least one band there matches. The implementation or-and function used in LSH helping reducing the unmber of comparisons and keep the similar pairs.        \n",
        "> 2. From the turned out results, LSH was too strict that leading to too many false negatives. The MinHash was very accurate which detects all true paris without false positives. And choosing the right r rows and b band value is critical in LSH method."
      ]
    },
    {
      "cell_type": "markdown",
      "metadata": {
        "id": "96p_Q3YjgTB1"
      },
      "source": [
        "### Efficient LSH algorithm  \n",
        "\n",
        "The banded OR-AND mini-hashing has produced better results than simple mini-hashing. However, the algorithm used required matching $\\frac{n(n-1)}{2}$ or $\\mathcal{O}(n^2)$ matching operations. Clever use of a hash table allows us to create an equivalent algorithm with  $\\mathcal{O}(n)$ time complexity.   \n",
        "\n",
        "The code in the cell below uses a hash table constructed with a [collections.defaultdict](https://docs.python.org/3/library/collections.html#collections.defaultdict) to match candidate pairs. Execute the code and examine the results.   "
      ]
    },
    {
      "cell_type": "code",
      "execution_count": 21,
      "metadata": {
        "id": "SoTHXElngTB1",
        "colab": {
          "base_uri": "https://localhost:8080/"
        },
        "outputId": "f7b337ac-e401-43ed-8337-60e45aea9e04"
      },
      "outputs": [
        {
          "output_type": "stream",
          "name": "stdout",
          "text": [
            "True pairs:\t {(0, 4), (3, 4), (1, 4)}\n",
            "LSH pairs:\t set()\n",
            "Fast LSH pairs:\t set()\n",
            "MinHash pairs:\t {(0, 4), (3, 4), (1, 4)}\n"
          ]
        }
      ],
      "source": [
        "def fastCandidatePairs(sig_mat, b, r):\n",
        "    n, d = sig_mat.shape\n",
        "    assert(n==b*r)\n",
        "    hashbuckets = collections.defaultdict(set)\n",
        "    bands = np.array_split(sig_mat, b, axis=0)\n",
        "    for i,band in enumerate(bands):\n",
        "        for j in range(d):\n",
        "            # The last value must be made a string, to prevent accidental\n",
        "            # key collisions of r+1 integers when we really only want\n",
        "            # keys of r integers plus a band index\n",
        "            band_id = tuple(list(band[:,j])+[str(i)])\n",
        "            hashbuckets[band_id].add(j)\n",
        "    candidate_pairs = set()\n",
        "    for bucket in hashbuckets.values():\n",
        "        if len(bucket) > 1:\n",
        "            for pair in itertools.combinations(bucket, 2):\n",
        "                candidate_pairs.add(pair)\n",
        "    return candidate_pairs\n",
        "\n",
        "\n",
        "#p = 0.30\n",
        "p = 0.25\n",
        "n = 120\n",
        "b = 20\n",
        "r = 6\n",
        "\n",
        "# see how many candidate pairs we got right!\n",
        "np.random.seed(1267)\n",
        "sig_mat = hm(doc_shingles, n)\n",
        "true_score_dict = trueSimScores(doc_shingles)\n",
        "approx_score_dict = sigSimScores(sig_mat)\n",
        "print('True pairs:\\t', candidatePairs(true_score_dict, p))\n",
        "print(\"LSH pairs:\\t\", bandedCandidatePairs(sig_mat, b, r))\n",
        "print(\"Fast LSH pairs:\\t\", fastCandidatePairs(sig_mat, b, r))\n",
        "print(\"MinHash pairs:\\t\", candidatePairs(approx_score_dict, p))"
      ]
    },
    {
      "cell_type": "markdown",
      "metadata": {
        "id": "YqfhZ0ZtgTB1"
      },
      "source": [
        "> **Exercise 03-8:** Examine the `fastCandidatePairs` function. Explain why this algorithm is equivalent to the OR-AND construction examined for Exercise 03-6, but yet can run in $O(n)$ time.    \n",
        "> **End of Exercise.**"
      ]
    },
    {
      "cell_type": "markdown",
      "metadata": {
        "id": "0pv1h6_jgTB1"
      },
      "source": [
        "> **Answer:** the fastCandidateParis function seems like n optimized version of the bandedCandidatePairs function used in LSH, which helps maintain the same logic as well as improve the computational efficiency.        "
      ]
    },
    {
      "cell_type": "markdown",
      "metadata": {
        "id": "fhQ7Gi87gTB1"
      },
      "source": [
        "> **Exercise 03-9:** The LSH and fast LSH algorithms both make the same error in this case. Is there an efficient way to improve on this result? Yes. We can take advantage of the fact that most similar pairs hash to the same bucket, we can do the following:    \n",
        "> 1. Find the full Jacard similarities of only the pairs in the bucket. The limited number of pairs candidates makes this calculation efficient.    \n",
        "> 2. Filter the full Jarard similarities by a threshold.       \n",
        "> Examine and execute the code in the cell below.   "
      ]
    },
    {
      "cell_type": "code",
      "execution_count": 22,
      "metadata": {
        "id": "s9PVwZUOgTB1",
        "colab": {
          "base_uri": "https://localhost:8080/"
        },
        "outputId": "7dd72626-01d1-467d-97b8-a5c80de4cfa9"
      },
      "outputs": [
        {
          "output_type": "stream",
          "name": "stdout",
          "text": [
            "The similaritiy of the pairs in the bucket = []\n",
            "**True similarity scores**\n",
            "Pair\tScore\n",
            "--------------\n"
          ]
        }
      ],
      "source": [
        "pair_labels = []\n",
        "pair_sims = []\n",
        "for x1, x2 in bandedCandidatePairs(sig_mat, b, r):\n",
        "    pair_labels.append((x1,x2))\n",
        "    pair_sims.append(jaccardSim(doc_shingles[x1],doc_shingles[x2]))\n",
        "\n",
        "print('The similaritiy of the pairs in the bucket = ' + str(np.round(pair_sims, 3)))\n",
        "threshold = 0.25\n",
        "print(f\"**True similarity scores**\")\n",
        "print(\"Pair\\tScore\")\n",
        "print(\"-\"*14)\n",
        "for pair, score in zip(pair_labels, pair_sims):\n",
        "    if score > threshold: print(f\"{pair}\\t{score:.3f}\")"
      ]
    },
    {
      "cell_type": "markdown",
      "metadata": {
        "id": "MUQsm_sIgTB2"
      },
      "source": [
        "> This simple algorithm has filtered out false positive errors. Explain why this approach is compuationally efficeint compare to testing pairwise similarities.  "
      ]
    },
    {
      "cell_type": "markdown",
      "metadata": {
        "id": "5SKKR_4kgTB2"
      },
      "source": [
        "> **Answer:** this approach is computationally efficient because it avoids unnecessary pairwise comparisons. And it uses hashing to group similar documents to reduce the searching space. This method also helps for the prevention of false positive. Besides, it also scales good for the large datasets.     "
      ]
    },
    {
      "cell_type": "markdown",
      "metadata": {
        "id": "hmMyv-VSgTB2"
      },
      "source": [
        "#### Copywrite 2022, 2023, 2024 Stephen F Elston. All rights reserved.  "
      ]
    }
  ],
  "metadata": {
    "kernelspec": {
      "display_name": "Python 3 (ipykernel)",
      "language": "python",
      "name": "python3"
    },
    "language_info": {
      "codemirror_mode": {
        "name": "ipython",
        "version": 3
      },
      "file_extension": ".py",
      "mimetype": "text/x-python",
      "name": "python",
      "nbconvert_exporter": "python",
      "pygments_lexer": "ipython3",
      "version": "3.9.18"
    },
    "colab": {
      "provenance": []
    }
  },
  "nbformat": 4,
  "nbformat_minor": 0
}